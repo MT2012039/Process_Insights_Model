{
 "cells": [
  {
   "cell_type": "code",
   "execution_count": 1,
   "id": "d9c39357-8759-4a22-bfe6-5a5fee67f721",
   "metadata": {},
   "outputs": [],
   "source": [
    "# Suppressing Warnings\n",
    "import warnings\n",
    "warnings.filterwarnings('ignore')"
   ]
  },
  {
   "cell_type": "code",
   "execution_count": 2,
   "id": "e1653a05-cb4e-46c0-84ee-38377ad6f2f7",
   "metadata": {},
   "outputs": [],
   "source": [
    "# Importing Pandas and NumPy\n",
    "import pandas as pd, numpy as np"
   ]
  },
  {
   "cell_type": "code",
   "execution_count": 4,
   "id": "74ce494d-4652-4de9-88c1-10f1ac20991d",
   "metadata": {},
   "outputs": [
    {
     "data": {
      "text/html": [
       "<div>\n",
       "<style scoped>\n",
       "    .dataframe tbody tr th:only-of-type {\n",
       "        vertical-align: middle;\n",
       "    }\n",
       "\n",
       "    .dataframe tbody tr th {\n",
       "        vertical-align: top;\n",
       "    }\n",
       "\n",
       "    .dataframe thead th {\n",
       "        text-align: right;\n",
       "    }\n",
       "</style>\n",
       "<table border=\"1\" class=\"dataframe\">\n",
       "  <thead>\n",
       "    <tr style=\"text-align: right;\">\n",
       "      <th></th>\n",
       "      <th>ProcessId</th>\n",
       "      <th>PlanId</th>\n",
       "      <th>ProcessTitle</th>\n",
       "      <th>ProcessDocument</th>\n",
       "      <th>ProcessState</th>\n",
       "      <th>ProcessStateReason</th>\n",
       "      <th>StartDate</th>\n",
       "      <th>EndDate</th>\n",
       "      <th>PendingInvokesCount</th>\n",
       "      <th>ModifiedCount</th>\n",
       "      <th>NumberOfJumpSteps</th>\n",
       "      <th>NumberOfServicesPresent</th>\n",
       "      <th>ProceessType</th>\n",
       "    </tr>\n",
       "  </thead>\n",
       "  <tbody>\n",
       "    <tr>\n",
       "      <th>0</th>\n",
       "      <td>3.675890e+17</td>\n",
       "      <td>3.596270e+17</td>\n",
       "      <td>SubProcessWithWaitInMinutes2</td>\n",
       "      <td>NULL</td>\n",
       "      <td>1</td>\n",
       "      <td>101</td>\n",
       "      <td>2019-10-12 08:29:23.392</td>\n",
       "      <td>2019-10-12 08:30:23.449</td>\n",
       "      <td>0</td>\n",
       "      <td>15</td>\n",
       "      <td>0</td>\n",
       "      <td>2</td>\n",
       "      <td>SubProcess</td>\n",
       "    </tr>\n",
       "    <tr>\n",
       "      <th>1</th>\n",
       "      <td>3.711980e+17</td>\n",
       "      <td>3.708180e+17</td>\n",
       "      <td>SubProcessWithWaitInMinutes2</td>\n",
       "      <td>NULL</td>\n",
       "      <td>0</td>\n",
       "      <td>101</td>\n",
       "      <td>2019-10-22 07:30:03.803</td>\n",
       "      <td>2019-10-22 07:31:03.857</td>\n",
       "      <td>0</td>\n",
       "      <td>15</td>\n",
       "      <td>4</td>\n",
       "      <td>2</td>\n",
       "      <td>SubProcess</td>\n",
       "    </tr>\n",
       "    <tr>\n",
       "      <th>2</th>\n",
       "      <td>4.751990e+17</td>\n",
       "      <td>3.596270e+17</td>\n",
       "      <td>SubProcessWithWaitInSeconds</td>\n",
       "      <td>NULL</td>\n",
       "      <td>0</td>\n",
       "      <td>101</td>\n",
       "      <td>2020-08-04 07:09:20.000</td>\n",
       "      <td>2020-08-04 07:09:44.898</td>\n",
       "      <td>0</td>\n",
       "      <td>15</td>\n",
       "      <td>1</td>\n",
       "      <td>2</td>\n",
       "      <td>SubProcess</td>\n",
       "    </tr>\n",
       "    <tr>\n",
       "      <th>3</th>\n",
       "      <td>5.107090e+17</td>\n",
       "      <td>3.708180e+17</td>\n",
       "      <td>SubProcessWithWaitInMinutes2</td>\n",
       "      <td>NULL</td>\n",
       "      <td>1</td>\n",
       "      <td>101</td>\n",
       "      <td>2020-11-10 06:54:00.622</td>\n",
       "      <td>2020-11-10 06:55:00.670</td>\n",
       "      <td>0</td>\n",
       "      <td>15</td>\n",
       "      <td>2</td>\n",
       "      <td>2</td>\n",
       "      <td>SubProcess</td>\n",
       "    </tr>\n",
       "    <tr>\n",
       "      <th>4</th>\n",
       "      <td>5.766950e+17</td>\n",
       "      <td>5.763650e+17</td>\n",
       "      <td>SubProcessWithWaitInMinutes2</td>\n",
       "      <td>NULL</td>\n",
       "      <td>1</td>\n",
       "      <td>101</td>\n",
       "      <td>2021-05-11 09:00:17.803</td>\n",
       "      <td>2021-05-11 09:01:17.831</td>\n",
       "      <td>0</td>\n",
       "      <td>12</td>\n",
       "      <td>1</td>\n",
       "      <td>4</td>\n",
       "      <td>SubProcess</td>\n",
       "    </tr>\n",
       "  </tbody>\n",
       "</table>\n",
       "</div>"
      ],
      "text/plain": [
       "      ProcessId        PlanId   ProcessTitle                   \\\n",
       "0  3.675890e+17  3.596270e+17   SubProcessWithWaitInMinutes2    \n",
       "1  3.711980e+17  3.708180e+17   SubProcessWithWaitInMinutes2    \n",
       "2  4.751990e+17  3.596270e+17   SubProcessWithWaitInSeconds     \n",
       "3  5.107090e+17  3.708180e+17   SubProcessWithWaitInMinutes2    \n",
       "4  5.766950e+17  5.763650e+17   SubProcessWithWaitInMinutes2    \n",
       "\n",
       "    ProcessDocument    ProcessState    ProcessStateReason   \\\n",
       "0   NULL                           1                   101   \n",
       "1   NULL                           0                   101   \n",
       "2   NULL                           0                   101   \n",
       "3   NULL                           1                   101   \n",
       "4   NULL                           1                   101   \n",
       "\n",
       "    StartDate                  EndDate                   \\\n",
       "0   2019-10-12 08:29:23.392    2019-10-12 08:30:23.449    \n",
       "1   2019-10-22 07:30:03.803    2019-10-22 07:31:03.857    \n",
       "2   2020-08-04 07:09:20.000    2020-08-04 07:09:44.898    \n",
       "3   2020-11-10 06:54:00.622    2020-11-10 06:55:00.670    \n",
       "4   2021-05-11 09:00:17.803    2021-05-11 09:01:17.831    \n",
       "\n",
       "    PendingInvokesCount    ModifiedCount   NumberOfJumpSteps  \\\n",
       "0                      0               15                  0   \n",
       "1                      0               15                  4   \n",
       "2                      0               15                  1   \n",
       "3                      0               15                  2   \n",
       "4                      0               12                  1   \n",
       "\n",
       "   NumberOfServicesPresent ProceessType  \n",
       "0                        2   SubProcess  \n",
       "1                        2   SubProcess  \n",
       "2                        2   SubProcess  \n",
       "3                        2   SubProcess  \n",
       "4                        4   SubProcess  "
      ]
     },
     "execution_count": 4,
     "metadata": {},
     "output_type": "execute_result"
    }
   ],
   "source": [
    "# Importing all datasets\n",
    "process_data = pd.read_csv(\"Process_Completion_Data.csv\")\n",
    "process_data.head()"
   ]
  },
  {
   "cell_type": "code",
   "execution_count": 5,
   "id": "1fe0db34-c520-4518-bf66-54b42b7fc356",
   "metadata": {},
   "outputs": [
    {
     "data": {
      "text/plain": [
       "(100, 13)"
      ]
     },
     "execution_count": 5,
     "metadata": {},
     "output_type": "execute_result"
    }
   ],
   "source": [
    "process_data.shape"
   ]
  },
  {
   "cell_type": "code",
   "execution_count": 6,
   "id": "76c5e871-a0e0-4a7f-851a-4a2329f78bc6",
   "metadata": {},
   "outputs": [
    {
     "data": {
      "text/html": [
       "<div>\n",
       "<style scoped>\n",
       "    .dataframe tbody tr th:only-of-type {\n",
       "        vertical-align: middle;\n",
       "    }\n",
       "\n",
       "    .dataframe tbody tr th {\n",
       "        vertical-align: top;\n",
       "    }\n",
       "\n",
       "    .dataframe thead th {\n",
       "        text-align: right;\n",
       "    }\n",
       "</style>\n",
       "<table border=\"1\" class=\"dataframe\">\n",
       "  <thead>\n",
       "    <tr style=\"text-align: right;\">\n",
       "      <th></th>\n",
       "      <th>ProcessId</th>\n",
       "      <th>PlanId</th>\n",
       "      <th>ProcessState</th>\n",
       "      <th>ProcessStateReason</th>\n",
       "      <th>PendingInvokesCount</th>\n",
       "      <th>ModifiedCount</th>\n",
       "      <th>NumberOfJumpSteps</th>\n",
       "      <th>NumberOfServicesPresent</th>\n",
       "    </tr>\n",
       "  </thead>\n",
       "  <tbody>\n",
       "    <tr>\n",
       "      <th>count</th>\n",
       "      <td>1.000000e+02</td>\n",
       "      <td>1.000000e+02</td>\n",
       "      <td>100.00</td>\n",
       "      <td>100.000000</td>\n",
       "      <td>100.0</td>\n",
       "      <td>100.000000</td>\n",
       "      <td>100.000000</td>\n",
       "      <td>100.000000</td>\n",
       "    </tr>\n",
       "    <tr>\n",
       "      <th>mean</th>\n",
       "      <td>9.214563e+17</td>\n",
       "      <td>9.142576e+17</td>\n",
       "      <td>0.55</td>\n",
       "      <td>19.190000</td>\n",
       "      <td>0.0</td>\n",
       "      <td>4.530000</td>\n",
       "      <td>2.290000</td>\n",
       "      <td>2.010000</td>\n",
       "    </tr>\n",
       "    <tr>\n",
       "      <th>std</th>\n",
       "      <td>1.426197e+17</td>\n",
       "      <td>1.575065e+17</td>\n",
       "      <td>0.50</td>\n",
       "      <td>39.822002</td>\n",
       "      <td>0.0</td>\n",
       "      <td>4.630717</td>\n",
       "      <td>1.736681</td>\n",
       "      <td>1.259269</td>\n",
       "    </tr>\n",
       "    <tr>\n",
       "      <th>min</th>\n",
       "      <td>3.675890e+17</td>\n",
       "      <td>3.596270e+17</td>\n",
       "      <td>0.00</td>\n",
       "      <td>0.000000</td>\n",
       "      <td>0.0</td>\n",
       "      <td>2.000000</td>\n",
       "      <td>0.000000</td>\n",
       "      <td>0.000000</td>\n",
       "    </tr>\n",
       "    <tr>\n",
       "      <th>25%</th>\n",
       "      <td>9.847580e+17</td>\n",
       "      <td>9.836200e+17</td>\n",
       "      <td>0.00</td>\n",
       "      <td>0.000000</td>\n",
       "      <td>0.0</td>\n",
       "      <td>2.000000</td>\n",
       "      <td>1.000000</td>\n",
       "      <td>1.000000</td>\n",
       "    </tr>\n",
       "    <tr>\n",
       "      <th>50%</th>\n",
       "      <td>9.847815e+17</td>\n",
       "      <td>9.836260e+17</td>\n",
       "      <td>1.00</td>\n",
       "      <td>0.000000</td>\n",
       "      <td>0.0</td>\n",
       "      <td>2.000000</td>\n",
       "      <td>2.000000</td>\n",
       "      <td>2.000000</td>\n",
       "    </tr>\n",
       "    <tr>\n",
       "      <th>75%</th>\n",
       "      <td>9.850630e+17</td>\n",
       "      <td>9.846910e+17</td>\n",
       "      <td>1.00</td>\n",
       "      <td>0.000000</td>\n",
       "      <td>0.0</td>\n",
       "      <td>3.250000</td>\n",
       "      <td>4.000000</td>\n",
       "      <td>3.000000</td>\n",
       "    </tr>\n",
       "    <tr>\n",
       "      <th>max</th>\n",
       "      <td>9.850960e+17</td>\n",
       "      <td>9.846910e+17</td>\n",
       "      <td>1.00</td>\n",
       "      <td>101.000000</td>\n",
       "      <td>0.0</td>\n",
       "      <td>15.000000</td>\n",
       "      <td>5.000000</td>\n",
       "      <td>4.000000</td>\n",
       "    </tr>\n",
       "  </tbody>\n",
       "</table>\n",
       "</div>"
      ],
      "text/plain": [
       "          ProcessId        PlanId   ProcessState    ProcessStateReason   \\\n",
       "count  1.000000e+02  1.000000e+02          100.00            100.000000   \n",
       "mean   9.214563e+17  9.142576e+17            0.55             19.190000   \n",
       "std    1.426197e+17  1.575065e+17            0.50             39.822002   \n",
       "min    3.675890e+17  3.596270e+17            0.00              0.000000   \n",
       "25%    9.847580e+17  9.836200e+17            0.00              0.000000   \n",
       "50%    9.847815e+17  9.836260e+17            1.00              0.000000   \n",
       "75%    9.850630e+17  9.846910e+17            1.00              0.000000   \n",
       "max    9.850960e+17  9.846910e+17            1.00            101.000000   \n",
       "\n",
       "        PendingInvokesCount    ModifiedCount   NumberOfJumpSteps  \\\n",
       "count                  100.0       100.000000         100.000000   \n",
       "mean                     0.0         4.530000           2.290000   \n",
       "std                      0.0         4.630717           1.736681   \n",
       "min                      0.0         2.000000           0.000000   \n",
       "25%                      0.0         2.000000           1.000000   \n",
       "50%                      0.0         2.000000           2.000000   \n",
       "75%                      0.0         3.250000           4.000000   \n",
       "max                      0.0        15.000000           5.000000   \n",
       "\n",
       "       NumberOfServicesPresent  \n",
       "count               100.000000  \n",
       "mean                  2.010000  \n",
       "std                   1.259269  \n",
       "min                   0.000000  \n",
       "25%                   1.000000  \n",
       "50%                   2.000000  \n",
       "75%                   3.000000  \n",
       "max                   4.000000  "
      ]
     },
     "execution_count": 6,
     "metadata": {},
     "output_type": "execute_result"
    }
   ],
   "source": [
    "process_data.describe()"
   ]
  },
  {
   "cell_type": "code",
   "execution_count": 7,
   "id": "8f7044e0-1df5-4d4b-85f5-283016660c6e",
   "metadata": {},
   "outputs": [],
   "source": [
    "process_data.columns = process_data.columns.str.strip()\n"
   ]
  },
  {
   "cell_type": "code",
   "execution_count": 8,
   "id": "76c9ab7b-cbff-4b04-9b26-57d4a15c8367",
   "metadata": {},
   "outputs": [
    {
     "data": {
      "text/plain": [
       "Index(['ProcessId', 'PlanId', 'ProcessTitle', 'ProcessDocument',\n",
       "       'ProcessState', 'ProcessStateReason', 'StartDate', 'EndDate',\n",
       "       'PendingInvokesCount', 'ModifiedCount', 'NumberOfJumpSteps',\n",
       "       'NumberOfServicesPresent', 'ProceessType'],\n",
       "      dtype='object')"
      ]
     },
     "execution_count": 8,
     "metadata": {},
     "output_type": "execute_result"
    }
   ],
   "source": [
    "process_data.columns"
   ]
  },
  {
   "cell_type": "code",
   "execution_count": 9,
   "id": "242be946-551f-4488-8289-3aa09c603737",
   "metadata": {},
   "outputs": [],
   "source": [
    "#Droping the records which are not useful for analytics\n",
    "process_data = process_data.drop(['ProcessId','PlanId','ProcessTitle','ProcessDocument','StartDate','EndDate'], axis=1)"
   ]
  },
  {
   "cell_type": "code",
   "execution_count": 10,
   "id": "13045372-f042-4930-8242-9ea599935bba",
   "metadata": {},
   "outputs": [
    {
     "data": {
      "text/html": [
       "<div>\n",
       "<style scoped>\n",
       "    .dataframe tbody tr th:only-of-type {\n",
       "        vertical-align: middle;\n",
       "    }\n",
       "\n",
       "    .dataframe tbody tr th {\n",
       "        vertical-align: top;\n",
       "    }\n",
       "\n",
       "    .dataframe thead th {\n",
       "        text-align: right;\n",
       "    }\n",
       "</style>\n",
       "<table border=\"1\" class=\"dataframe\">\n",
       "  <thead>\n",
       "    <tr style=\"text-align: right;\">\n",
       "      <th></th>\n",
       "      <th>ProcessState</th>\n",
       "      <th>ProcessStateReason</th>\n",
       "      <th>PendingInvokesCount</th>\n",
       "      <th>ModifiedCount</th>\n",
       "      <th>NumberOfJumpSteps</th>\n",
       "      <th>NumberOfServicesPresent</th>\n",
       "      <th>ProceessType</th>\n",
       "    </tr>\n",
       "  </thead>\n",
       "  <tbody>\n",
       "    <tr>\n",
       "      <th>0</th>\n",
       "      <td>1</td>\n",
       "      <td>101</td>\n",
       "      <td>0</td>\n",
       "      <td>15</td>\n",
       "      <td>0</td>\n",
       "      <td>2</td>\n",
       "      <td>SubProcess</td>\n",
       "    </tr>\n",
       "    <tr>\n",
       "      <th>1</th>\n",
       "      <td>0</td>\n",
       "      <td>101</td>\n",
       "      <td>0</td>\n",
       "      <td>15</td>\n",
       "      <td>4</td>\n",
       "      <td>2</td>\n",
       "      <td>SubProcess</td>\n",
       "    </tr>\n",
       "    <tr>\n",
       "      <th>2</th>\n",
       "      <td>0</td>\n",
       "      <td>101</td>\n",
       "      <td>0</td>\n",
       "      <td>15</td>\n",
       "      <td>1</td>\n",
       "      <td>2</td>\n",
       "      <td>SubProcess</td>\n",
       "    </tr>\n",
       "    <tr>\n",
       "      <th>3</th>\n",
       "      <td>1</td>\n",
       "      <td>101</td>\n",
       "      <td>0</td>\n",
       "      <td>15</td>\n",
       "      <td>2</td>\n",
       "      <td>2</td>\n",
       "      <td>SubProcess</td>\n",
       "    </tr>\n",
       "    <tr>\n",
       "      <th>4</th>\n",
       "      <td>1</td>\n",
       "      <td>101</td>\n",
       "      <td>0</td>\n",
       "      <td>12</td>\n",
       "      <td>1</td>\n",
       "      <td>4</td>\n",
       "      <td>SubProcess</td>\n",
       "    </tr>\n",
       "  </tbody>\n",
       "</table>\n",
       "</div>"
      ],
      "text/plain": [
       "   ProcessState  ProcessStateReason  PendingInvokesCount  ModifiedCount  \\\n",
       "0             1                 101                    0             15   \n",
       "1             0                 101                    0             15   \n",
       "2             0                 101                    0             15   \n",
       "3             1                 101                    0             15   \n",
       "4             1                 101                    0             12   \n",
       "\n",
       "   NumberOfJumpSteps  NumberOfServicesPresent ProceessType  \n",
       "0                  0                        2   SubProcess  \n",
       "1                  4                        2   SubProcess  \n",
       "2                  1                        2   SubProcess  \n",
       "3                  2                        2   SubProcess  \n",
       "4                  1                        4   SubProcess  "
      ]
     },
     "execution_count": 10,
     "metadata": {},
     "output_type": "execute_result"
    }
   ],
   "source": [
    "process_data.head()"
   ]
  },
  {
   "cell_type": "code",
   "execution_count": 11,
   "id": "447c63c2-07fb-4506-9bc3-7b6189b6ceee",
   "metadata": {},
   "outputs": [
    {
     "data": {
      "text/plain": [
       "ProceessType\n",
       " Guide                    33\n",
       " SubProcess               19\n",
       "Name: count, dtype: int64"
      ]
     },
     "execution_count": 11,
     "metadata": {},
     "output_type": "execute_result"
    }
   ],
   "source": [
    "process_data['ProceessType'].value_counts()"
   ]
  },
  {
   "cell_type": "code",
   "execution_count": 13,
   "id": "32024669-60b9-4324-a9cb-3d90d9c110ed",
   "metadata": {},
   "outputs": [],
   "source": [
    "ml = pd.get_dummies(process_data['ProceessType'], prefix='ProceessType', drop_first=True, dtype='int')\n",
    "process_data = pd.concat([process_data,ml], axis=1)"
   ]
  },
  {
   "cell_type": "code",
   "execution_count": 14,
   "id": "602c68d5-9d9d-4b7f-81be-12ef0bdff57e",
   "metadata": {},
   "outputs": [],
   "source": [
    "process_data = process_data.drop('ProceessType',axis=1)"
   ]
  },
  {
   "cell_type": "code",
   "execution_count": 15,
   "id": "932eb387-7b6a-48fe-aab2-ff7fb250e936",
   "metadata": {},
   "outputs": [
    {
     "data": {
      "text/html": [
       "<div>\n",
       "<style scoped>\n",
       "    .dataframe tbody tr th:only-of-type {\n",
       "        vertical-align: middle;\n",
       "    }\n",
       "\n",
       "    .dataframe tbody tr th {\n",
       "        vertical-align: top;\n",
       "    }\n",
       "\n",
       "    .dataframe thead th {\n",
       "        text-align: right;\n",
       "    }\n",
       "</style>\n",
       "<table border=\"1\" class=\"dataframe\">\n",
       "  <thead>\n",
       "    <tr style=\"text-align: right;\">\n",
       "      <th></th>\n",
       "      <th>ProcessState</th>\n",
       "      <th>ProcessStateReason</th>\n",
       "      <th>PendingInvokesCount</th>\n",
       "      <th>ModifiedCount</th>\n",
       "      <th>NumberOfJumpSteps</th>\n",
       "      <th>NumberOfServicesPresent</th>\n",
       "      <th>ProceessType_ SubProcess</th>\n",
       "    </tr>\n",
       "  </thead>\n",
       "  <tbody>\n",
       "    <tr>\n",
       "      <th>0</th>\n",
       "      <td>1</td>\n",
       "      <td>101</td>\n",
       "      <td>0</td>\n",
       "      <td>15</td>\n",
       "      <td>0</td>\n",
       "      <td>2</td>\n",
       "      <td>1</td>\n",
       "    </tr>\n",
       "    <tr>\n",
       "      <th>1</th>\n",
       "      <td>0</td>\n",
       "      <td>101</td>\n",
       "      <td>0</td>\n",
       "      <td>15</td>\n",
       "      <td>4</td>\n",
       "      <td>2</td>\n",
       "      <td>1</td>\n",
       "    </tr>\n",
       "    <tr>\n",
       "      <th>2</th>\n",
       "      <td>0</td>\n",
       "      <td>101</td>\n",
       "      <td>0</td>\n",
       "      <td>15</td>\n",
       "      <td>1</td>\n",
       "      <td>2</td>\n",
       "      <td>1</td>\n",
       "    </tr>\n",
       "    <tr>\n",
       "      <th>3</th>\n",
       "      <td>1</td>\n",
       "      <td>101</td>\n",
       "      <td>0</td>\n",
       "      <td>15</td>\n",
       "      <td>2</td>\n",
       "      <td>2</td>\n",
       "      <td>1</td>\n",
       "    </tr>\n",
       "    <tr>\n",
       "      <th>4</th>\n",
       "      <td>1</td>\n",
       "      <td>101</td>\n",
       "      <td>0</td>\n",
       "      <td>12</td>\n",
       "      <td>1</td>\n",
       "      <td>4</td>\n",
       "      <td>1</td>\n",
       "    </tr>\n",
       "    <tr>\n",
       "      <th>...</th>\n",
       "      <td>...</td>\n",
       "      <td>...</td>\n",
       "      <td>...</td>\n",
       "      <td>...</td>\n",
       "      <td>...</td>\n",
       "      <td>...</td>\n",
       "      <td>...</td>\n",
       "    </tr>\n",
       "    <tr>\n",
       "      <th>95</th>\n",
       "      <td>1</td>\n",
       "      <td>0</td>\n",
       "      <td>0</td>\n",
       "      <td>2</td>\n",
       "      <td>5</td>\n",
       "      <td>0</td>\n",
       "      <td>0</td>\n",
       "    </tr>\n",
       "    <tr>\n",
       "      <th>96</th>\n",
       "      <td>1</td>\n",
       "      <td>0</td>\n",
       "      <td>0</td>\n",
       "      <td>2</td>\n",
       "      <td>5</td>\n",
       "      <td>1</td>\n",
       "      <td>0</td>\n",
       "    </tr>\n",
       "    <tr>\n",
       "      <th>97</th>\n",
       "      <td>1</td>\n",
       "      <td>0</td>\n",
       "      <td>0</td>\n",
       "      <td>2</td>\n",
       "      <td>1</td>\n",
       "      <td>1</td>\n",
       "      <td>0</td>\n",
       "    </tr>\n",
       "    <tr>\n",
       "      <th>98</th>\n",
       "      <td>0</td>\n",
       "      <td>0</td>\n",
       "      <td>0</td>\n",
       "      <td>2</td>\n",
       "      <td>1</td>\n",
       "      <td>0</td>\n",
       "      <td>0</td>\n",
       "    </tr>\n",
       "    <tr>\n",
       "      <th>99</th>\n",
       "      <td>1</td>\n",
       "      <td>0</td>\n",
       "      <td>0</td>\n",
       "      <td>4</td>\n",
       "      <td>5</td>\n",
       "      <td>1</td>\n",
       "      <td>0</td>\n",
       "    </tr>\n",
       "  </tbody>\n",
       "</table>\n",
       "<p>100 rows × 7 columns</p>\n",
       "</div>"
      ],
      "text/plain": [
       "    ProcessState  ProcessStateReason  PendingInvokesCount  ModifiedCount  \\\n",
       "0              1                 101                    0             15   \n",
       "1              0                 101                    0             15   \n",
       "2              0                 101                    0             15   \n",
       "3              1                 101                    0             15   \n",
       "4              1                 101                    0             12   \n",
       "..           ...                 ...                  ...            ...   \n",
       "95             1                   0                    0              2   \n",
       "96             1                   0                    0              2   \n",
       "97             1                   0                    0              2   \n",
       "98             0                   0                    0              2   \n",
       "99             1                   0                    0              4   \n",
       "\n",
       "    NumberOfJumpSteps  NumberOfServicesPresent  ProceessType_ SubProcess  \n",
       "0                   0                        2                         1  \n",
       "1                   4                        2                         1  \n",
       "2                   1                        2                         1  \n",
       "3                   2                        2                         1  \n",
       "4                   1                        4                         1  \n",
       "..                ...                      ...                       ...  \n",
       "95                  5                        0                         0  \n",
       "96                  5                        1                         0  \n",
       "97                  1                        1                         0  \n",
       "98                  1                        0                         0  \n",
       "99                  5                        1                         0  \n",
       "\n",
       "[100 rows x 7 columns]"
      ]
     },
     "execution_count": 15,
     "metadata": {},
     "output_type": "execute_result"
    }
   ],
   "source": [
    "process_data"
   ]
  },
  {
   "cell_type": "code",
   "execution_count": 16,
   "id": "67116cd8-1e31-42a2-9ffc-45d7dd711360",
   "metadata": {},
   "outputs": [],
   "source": [
    "from sklearn.model_selection import train_test_split"
   ]
  },
  {
   "cell_type": "code",
   "execution_count": 17,
   "id": "50358842-e5d8-4d73-ac98-3766346a1d7c",
   "metadata": {},
   "outputs": [
    {
     "data": {
      "text/html": [
       "<div>\n",
       "<style scoped>\n",
       "    .dataframe tbody tr th:only-of-type {\n",
       "        vertical-align: middle;\n",
       "    }\n",
       "\n",
       "    .dataframe tbody tr th {\n",
       "        vertical-align: top;\n",
       "    }\n",
       "\n",
       "    .dataframe thead th {\n",
       "        text-align: right;\n",
       "    }\n",
       "</style>\n",
       "<table border=\"1\" class=\"dataframe\">\n",
       "  <thead>\n",
       "    <tr style=\"text-align: right;\">\n",
       "      <th></th>\n",
       "      <th>ProcessStateReason</th>\n",
       "      <th>PendingInvokesCount</th>\n",
       "      <th>ModifiedCount</th>\n",
       "      <th>NumberOfJumpSteps</th>\n",
       "      <th>NumberOfServicesPresent</th>\n",
       "      <th>ProceessType_ SubProcess</th>\n",
       "    </tr>\n",
       "  </thead>\n",
       "  <tbody>\n",
       "    <tr>\n",
       "      <th>0</th>\n",
       "      <td>101</td>\n",
       "      <td>0</td>\n",
       "      <td>15</td>\n",
       "      <td>0</td>\n",
       "      <td>2</td>\n",
       "      <td>1</td>\n",
       "    </tr>\n",
       "    <tr>\n",
       "      <th>1</th>\n",
       "      <td>101</td>\n",
       "      <td>0</td>\n",
       "      <td>15</td>\n",
       "      <td>4</td>\n",
       "      <td>2</td>\n",
       "      <td>1</td>\n",
       "    </tr>\n",
       "    <tr>\n",
       "      <th>2</th>\n",
       "      <td>101</td>\n",
       "      <td>0</td>\n",
       "      <td>15</td>\n",
       "      <td>1</td>\n",
       "      <td>2</td>\n",
       "      <td>1</td>\n",
       "    </tr>\n",
       "    <tr>\n",
       "      <th>3</th>\n",
       "      <td>101</td>\n",
       "      <td>0</td>\n",
       "      <td>15</td>\n",
       "      <td>2</td>\n",
       "      <td>2</td>\n",
       "      <td>1</td>\n",
       "    </tr>\n",
       "    <tr>\n",
       "      <th>4</th>\n",
       "      <td>101</td>\n",
       "      <td>0</td>\n",
       "      <td>12</td>\n",
       "      <td>1</td>\n",
       "      <td>4</td>\n",
       "      <td>1</td>\n",
       "    </tr>\n",
       "  </tbody>\n",
       "</table>\n",
       "</div>"
      ],
      "text/plain": [
       "   ProcessStateReason  PendingInvokesCount  ModifiedCount  NumberOfJumpSteps  \\\n",
       "0                 101                    0             15                  0   \n",
       "1                 101                    0             15                  4   \n",
       "2                 101                    0             15                  1   \n",
       "3                 101                    0             15                  2   \n",
       "4                 101                    0             12                  1   \n",
       "\n",
       "   NumberOfServicesPresent  ProceessType_ SubProcess  \n",
       "0                        2                         1  \n",
       "1                        2                         1  \n",
       "2                        2                         1  \n",
       "3                        2                         1  \n",
       "4                        4                         1  "
      ]
     },
     "execution_count": 17,
     "metadata": {},
     "output_type": "execute_result"
    }
   ],
   "source": [
    "# Putting feature variable to X\n",
    "X = process_data.drop(['ProcessState'], axis=1)\n",
    "\n",
    "X.head()"
   ]
  },
  {
   "cell_type": "code",
   "execution_count": 18,
   "id": "6aac7133-dff2-4cdf-895c-6e352a70f640",
   "metadata": {},
   "outputs": [
    {
     "data": {
      "text/plain": [
       "0    1\n",
       "1    0\n",
       "2    0\n",
       "3    1\n",
       "4    1\n",
       "Name: ProcessState, dtype: int64"
      ]
     },
     "execution_count": 18,
     "metadata": {},
     "output_type": "execute_result"
    }
   ],
   "source": [
    "# Putting response variable to y\n",
    "y = process_data['ProcessState']\n",
    "\n",
    "y.head()"
   ]
  },
  {
   "cell_type": "code",
   "execution_count": 19,
   "id": "a3b7bcdb-e439-48ea-ad9a-61bb1fdc0e2e",
   "metadata": {},
   "outputs": [],
   "source": [
    "# Splitting the data into train and test\n",
    "X_train, X_test, y_train, y_test = train_test_split(X, y, train_size=0.8, test_size=0.2, random_state=100)"
   ]
  },
  {
   "cell_type": "code",
   "execution_count": 20,
   "id": "100a3903-2dc5-41c1-8668-d327a001552c",
   "metadata": {},
   "outputs": [],
   "source": [
    "from sklearn.preprocessing import StandardScaler"
   ]
  },
  {
   "cell_type": "code",
   "execution_count": 21,
   "id": "6d2a5899-d62a-4849-b5e0-a065279ab1bc",
   "metadata": {},
   "outputs": [
    {
     "data": {
      "text/html": [
       "<div>\n",
       "<style scoped>\n",
       "    .dataframe tbody tr th:only-of-type {\n",
       "        vertical-align: middle;\n",
       "    }\n",
       "\n",
       "    .dataframe tbody tr th {\n",
       "        vertical-align: top;\n",
       "    }\n",
       "\n",
       "    .dataframe thead th {\n",
       "        text-align: right;\n",
       "    }\n",
       "</style>\n",
       "<table border=\"1\" class=\"dataframe\">\n",
       "  <thead>\n",
       "    <tr style=\"text-align: right;\">\n",
       "      <th></th>\n",
       "      <th>ProcessStateReason</th>\n",
       "      <th>PendingInvokesCount</th>\n",
       "      <th>ModifiedCount</th>\n",
       "      <th>NumberOfJumpSteps</th>\n",
       "      <th>NumberOfServicesPresent</th>\n",
       "      <th>ProceessType_ SubProcess</th>\n",
       "    </tr>\n",
       "  </thead>\n",
       "  <tbody>\n",
       "    <tr>\n",
       "      <th>29</th>\n",
       "      <td>-0.519462</td>\n",
       "      <td>0</td>\n",
       "      <td>-0.594234</td>\n",
       "      <td>2</td>\n",
       "      <td>4</td>\n",
       "      <td>0</td>\n",
       "    </tr>\n",
       "    <tr>\n",
       "      <th>83</th>\n",
       "      <td>-0.519462</td>\n",
       "      <td>0</td>\n",
       "      <td>-0.594234</td>\n",
       "      <td>0</td>\n",
       "      <td>1</td>\n",
       "      <td>0</td>\n",
       "    </tr>\n",
       "    <tr>\n",
       "      <th>82</th>\n",
       "      <td>-0.519462</td>\n",
       "      <td>0</td>\n",
       "      <td>-0.385731</td>\n",
       "      <td>1</td>\n",
       "      <td>3</td>\n",
       "      <td>0</td>\n",
       "    </tr>\n",
       "    <tr>\n",
       "      <th>43</th>\n",
       "      <td>-0.519462</td>\n",
       "      <td>0</td>\n",
       "      <td>-0.594234</td>\n",
       "      <td>5</td>\n",
       "      <td>3</td>\n",
       "      <td>0</td>\n",
       "    </tr>\n",
       "    <tr>\n",
       "      <th>28</th>\n",
       "      <td>-0.519462</td>\n",
       "      <td>0</td>\n",
       "      <td>-0.594234</td>\n",
       "      <td>4</td>\n",
       "      <td>2</td>\n",
       "      <td>0</td>\n",
       "    </tr>\n",
       "  </tbody>\n",
       "</table>\n",
       "</div>"
      ],
      "text/plain": [
       "    ProcessStateReason  PendingInvokesCount  ModifiedCount  NumberOfJumpSteps  \\\n",
       "29           -0.519462                    0      -0.594234                  2   \n",
       "83           -0.519462                    0      -0.594234                  0   \n",
       "82           -0.519462                    0      -0.385731                  1   \n",
       "43           -0.519462                    0      -0.594234                  5   \n",
       "28           -0.519462                    0      -0.594234                  4   \n",
       "\n",
       "    NumberOfServicesPresent  ProceessType_ SubProcess  \n",
       "29                        4                         0  \n",
       "83                        1                         0  \n",
       "82                        3                         0  \n",
       "43                        3                         0  \n",
       "28                        2                         0  "
      ]
     },
     "execution_count": 21,
     "metadata": {},
     "output_type": "execute_result"
    }
   ],
   "source": [
    "scaler = StandardScaler()\n",
    "\n",
    "X_train[['ProcessStateReason','ModifiedCount']] = scaler.fit_transform(X_train[['ProcessStateReason','ModifiedCount']])\n",
    "\n",
    "X_train.head()"
   ]
  },
  {
   "cell_type": "code",
   "execution_count": 22,
   "id": "e717a022-5eb9-49ce-b1dc-322392e126de",
   "metadata": {},
   "outputs": [
    {
     "data": {
      "text/plain": [
       "55.00000000000001"
      ]
     },
     "execution_count": 22,
     "metadata": {},
     "output_type": "execute_result"
    }
   ],
   "source": [
    "percentage_fail = (sum(process_data['ProcessState'])/len(process_data['ProcessState'].index))*100\n",
    "percentage_fail"
   ]
  },
  {
   "cell_type": "code",
   "execution_count": 23,
   "id": "0870060d-f034-4c60-bc1e-c844dc002edb",
   "metadata": {},
   "outputs": [],
   "source": [
    "import statsmodels.api as sm"
   ]
  },
  {
   "cell_type": "code",
   "execution_count": 24,
   "id": "5e3986e9-0a85-4541-afb8-a36f8660df8e",
   "metadata": {},
   "outputs": [],
   "source": [
    "X_train_sm = sm.add_constant(X_train)"
   ]
  },
  {
   "cell_type": "code",
   "execution_count": 25,
   "id": "6830826c-f1c6-4109-af73-e2dc3badeefb",
   "metadata": {},
   "outputs": [
    {
     "data": {
      "text/html": [
       "<table class=\"simpletable\">\n",
       "<caption>Generalized Linear Model Regression Results</caption>\n",
       "<tr>\n",
       "  <th>Dep. Variable:</th>     <td>ProcessState</td>   <th>  No. Observations:  </th>  <td>    80</td> \n",
       "</tr>\n",
       "<tr>\n",
       "  <th>Model:</th>                  <td>GLM</td>       <th>  Df Residuals:      </th>  <td>    75</td> \n",
       "</tr>\n",
       "<tr>\n",
       "  <th>Model Family:</th>        <td>Binomial</td>     <th>  Df Model:          </th>  <td>     4</td> \n",
       "</tr>\n",
       "<tr>\n",
       "  <th>Link Function:</th>         <td>Logit</td>      <th>  Scale:             </th> <td>  1.0000</td>\n",
       "</tr>\n",
       "<tr>\n",
       "  <th>Method:</th>                <td>IRLS</td>       <th>  Log-Likelihood:    </th> <td> -54.502</td>\n",
       "</tr>\n",
       "<tr>\n",
       "  <th>Date:</th>            <td>Wed, 26 Jun 2024</td> <th>  Deviance:          </th> <td>  109.00</td>\n",
       "</tr>\n",
       "<tr>\n",
       "  <th>Time:</th>                <td>10:08:45</td>     <th>  Pearson chi2:      </th>  <td>  79.9</td> \n",
       "</tr>\n",
       "<tr>\n",
       "  <th>No. Iterations:</th>          <td>4</td>        <th>  Pseudo R-squ. (CS):</th>  <td>0.01796</td>\n",
       "</tr>\n",
       "<tr>\n",
       "  <th>Covariance Type:</th>     <td>nonrobust</td>    <th>                     </th>     <td> </td>   \n",
       "</tr>\n",
       "</table>\n",
       "<table class=\"simpletable\">\n",
       "<tr>\n",
       "              <td></td>                <th>coef</th>     <th>std err</th>      <th>z</th>      <th>P>|z|</th>  <th>[0.025</th>    <th>0.975]</th>  \n",
       "</tr>\n",
       "<tr>\n",
       "  <th>const</th>                    <td>    0.3100</td> <td>    0.532</td> <td>    0.583</td> <td> 0.560</td> <td>   -0.733</td> <td>    1.353</td>\n",
       "</tr>\n",
       "<tr>\n",
       "  <th>ProcessStateReason</th>       <td>    0.5811</td> <td>    0.645</td> <td>    0.901</td> <td> 0.368</td> <td>   -0.684</td> <td>    1.846</td>\n",
       "</tr>\n",
       "<tr>\n",
       "  <th>PendingInvokesCount</th>      <td>  1.93e-16</td> <td> 2.59e-16</td> <td>    0.744</td> <td> 0.457</td> <td>-3.16e-16</td> <td> 7.01e-16</td>\n",
       "</tr>\n",
       "<tr>\n",
       "  <th>ModifiedCount</th>            <td>   -0.7442</td> <td>    0.753</td> <td>   -0.988</td> <td> 0.323</td> <td>   -2.220</td> <td>    0.732</td>\n",
       "</tr>\n",
       "<tr>\n",
       "  <th>NumberOfJumpSteps</th>        <td>   -0.0954</td> <td>    0.137</td> <td>   -0.696</td> <td> 0.486</td> <td>   -0.364</td> <td>    0.173</td>\n",
       "</tr>\n",
       "<tr>\n",
       "  <th>NumberOfServicesPresent</th>  <td>   -0.0060</td> <td>    0.191</td> <td>   -0.032</td> <td> 0.975</td> <td>   -0.380</td> <td>    0.368</td>\n",
       "</tr>\n",
       "<tr>\n",
       "  <th>ProceessType_ SubProcess</th> <td>    0.3036</td> <td>    0.277</td> <td>    1.097</td> <td> 0.273</td> <td>   -0.239</td> <td>    0.846</td>\n",
       "</tr>\n",
       "</table>"
      ],
      "text/latex": [
       "\\begin{center}\n",
       "\\begin{tabular}{lclc}\n",
       "\\toprule\n",
       "\\textbf{Dep. Variable:}            &   ProcessState   & \\textbf{  No. Observations:  } &       80    \\\\\n",
       "\\textbf{Model:}                    &       GLM        & \\textbf{  Df Residuals:      } &       75    \\\\\n",
       "\\textbf{Model Family:}             &     Binomial     & \\textbf{  Df Model:          } &        4    \\\\\n",
       "\\textbf{Link Function:}            &      Logit       & \\textbf{  Scale:             } &    1.0000   \\\\\n",
       "\\textbf{Method:}                   &       IRLS       & \\textbf{  Log-Likelihood:    } &   -54.502   \\\\\n",
       "\\textbf{Date:}                     & Wed, 26 Jun 2024 & \\textbf{  Deviance:          } &    109.00   \\\\\n",
       "\\textbf{Time:}                     &     10:08:45     & \\textbf{  Pearson chi2:      } &     79.9    \\\\\n",
       "\\textbf{No. Iterations:}           &        4         & \\textbf{  Pseudo R-squ. (CS):} &  0.01796    \\\\\n",
       "\\textbf{Covariance Type:}          &    nonrobust     & \\textbf{                     } &             \\\\\n",
       "\\bottomrule\n",
       "\\end{tabular}\n",
       "\\begin{tabular}{lcccccc}\n",
       "                                   & \\textbf{coef} & \\textbf{std err} & \\textbf{z} & \\textbf{P$> |$z$|$} & \\textbf{[0.025} & \\textbf{0.975]}  \\\\\n",
       "\\midrule\n",
       "\\textbf{const}                     &       0.3100  &        0.532     &     0.583  &         0.560        &       -0.733    &        1.353     \\\\\n",
       "\\textbf{ProcessStateReason}        &       0.5811  &        0.645     &     0.901  &         0.368        &       -0.684    &        1.846     \\\\\n",
       "\\textbf{PendingInvokesCount}       &     1.93e-16  &     2.59e-16     &     0.744  &         0.457        &    -3.16e-16    &     7.01e-16     \\\\\n",
       "\\textbf{ModifiedCount}             &      -0.7442  &        0.753     &    -0.988  &         0.323        &       -2.220    &        0.732     \\\\\n",
       "\\textbf{NumberOfJumpSteps}         &      -0.0954  &        0.137     &    -0.696  &         0.486        &       -0.364    &        0.173     \\\\\n",
       "\\textbf{NumberOfServicesPresent}   &      -0.0060  &        0.191     &    -0.032  &         0.975        &       -0.380    &        0.368     \\\\\n",
       "\\textbf{ProceessType\\_ SubProcess} &       0.3036  &        0.277     &     1.097  &         0.273        &       -0.239    &        0.846     \\\\\n",
       "\\bottomrule\n",
       "\\end{tabular}\n",
       "%\\caption{Generalized Linear Model Regression Results}\n",
       "\\end{center}"
      ],
      "text/plain": [
       "<class 'statsmodels.iolib.summary.Summary'>\n",
       "\"\"\"\n",
       "                 Generalized Linear Model Regression Results                  \n",
       "==============================================================================\n",
       "Dep. Variable:           ProcessState   No. Observations:                   80\n",
       "Model:                            GLM   Df Residuals:                       75\n",
       "Model Family:                Binomial   Df Model:                            4\n",
       "Link Function:                  Logit   Scale:                          1.0000\n",
       "Method:                          IRLS   Log-Likelihood:                -54.502\n",
       "Date:                Wed, 26 Jun 2024   Deviance:                       109.00\n",
       "Time:                        10:08:45   Pearson chi2:                     79.9\n",
       "No. Iterations:                     4   Pseudo R-squ. (CS):            0.01796\n",
       "Covariance Type:            nonrobust                                         \n",
       "============================================================================================\n",
       "                               coef    std err          z      P>|z|      [0.025      0.975]\n",
       "--------------------------------------------------------------------------------------------\n",
       "const                        0.3100      0.532      0.583      0.560      -0.733       1.353\n",
       "ProcessStateReason           0.5811      0.645      0.901      0.368      -0.684       1.846\n",
       "PendingInvokesCount        1.93e-16   2.59e-16      0.744      0.457   -3.16e-16    7.01e-16\n",
       "ModifiedCount               -0.7442      0.753     -0.988      0.323      -2.220       0.732\n",
       "NumberOfJumpSteps           -0.0954      0.137     -0.696      0.486      -0.364       0.173\n",
       "NumberOfServicesPresent     -0.0060      0.191     -0.032      0.975      -0.380       0.368\n",
       "ProceessType_ SubProcess     0.3036      0.277      1.097      0.273      -0.239       0.846\n",
       "============================================================================================\n",
       "\"\"\""
      ]
     },
     "execution_count": 25,
     "metadata": {},
     "output_type": "execute_result"
    }
   ],
   "source": [
    "# Logistic regression model\n",
    "logm1 = sm.GLM(y_train,(sm.add_constant(X_train_sm)), family = sm.families.Binomial())\n",
    "logm1.fit().summary()"
   ]
  },
  {
   "cell_type": "code",
   "execution_count": 26,
   "id": "694b5db6-4587-4029-a9dd-04e676a1ebec",
   "metadata": {},
   "outputs": [
    {
     "data": {
      "text/html": [
       "<div>\n",
       "<style scoped>\n",
       "    .dataframe tbody tr th:only-of-type {\n",
       "        vertical-align: middle;\n",
       "    }\n",
       "\n",
       "    .dataframe tbody tr th {\n",
       "        vertical-align: top;\n",
       "    }\n",
       "\n",
       "    .dataframe thead th {\n",
       "        text-align: right;\n",
       "    }\n",
       "</style>\n",
       "<table border=\"1\" class=\"dataframe\">\n",
       "  <thead>\n",
       "    <tr style=\"text-align: right;\">\n",
       "      <th></th>\n",
       "      <th>Features</th>\n",
       "      <th>VIF</th>\n",
       "    </tr>\n",
       "  </thead>\n",
       "  <tbody>\n",
       "    <tr>\n",
       "      <th>1</th>\n",
       "      <td>ProcessStateReason</td>\n",
       "      <td>inf</td>\n",
       "    </tr>\n",
       "    <tr>\n",
       "      <th>6</th>\n",
       "      <td>ProceessType_ SubProcess</td>\n",
       "      <td>inf</td>\n",
       "    </tr>\n",
       "    <tr>\n",
       "      <th>3</th>\n",
       "      <td>ModifiedCount</td>\n",
       "      <td>8.83</td>\n",
       "    </tr>\n",
       "    <tr>\n",
       "      <th>4</th>\n",
       "      <td>NumberOfJumpSteps</td>\n",
       "      <td>1.04</td>\n",
       "    </tr>\n",
       "    <tr>\n",
       "      <th>5</th>\n",
       "      <td>NumberOfServicesPresent</td>\n",
       "      <td>1.04</td>\n",
       "    </tr>\n",
       "    <tr>\n",
       "      <th>0</th>\n",
       "      <td>const</td>\n",
       "      <td>0.00</td>\n",
       "    </tr>\n",
       "    <tr>\n",
       "      <th>2</th>\n",
       "      <td>PendingInvokesCount</td>\n",
       "      <td>NaN</td>\n",
       "    </tr>\n",
       "  </tbody>\n",
       "</table>\n",
       "</div>"
      ],
      "text/plain": [
       "                   Features   VIF\n",
       "1        ProcessStateReason   inf\n",
       "6  ProceessType_ SubProcess   inf\n",
       "3             ModifiedCount  8.83\n",
       "4         NumberOfJumpSteps  1.04\n",
       "5   NumberOfServicesPresent  1.04\n",
       "0                     const  0.00\n",
       "2       PendingInvokesCount   NaN"
      ]
     },
     "execution_count": 26,
     "metadata": {},
     "output_type": "execute_result"
    }
   ],
   "source": [
    "# Calculate the VIFs for the new model\n",
    "from statsmodels.stats.outliers_influence import variance_inflation_factor\n",
    "\n",
    "vif = pd.DataFrame()\n",
    "X = X_train_sm\n",
    "vif['Features'] = X.columns\n",
    "vif['VIF'] = [variance_inflation_factor(X.values, i) for i in range(X.shape[1])]\n",
    "vif['VIF'] = round(vif['VIF'], 2)\n",
    "vif = vif.sort_values(by = \"VIF\", ascending = False)\n",
    "vif"
   ]
  },
  {
   "cell_type": "code",
   "execution_count": 27,
   "id": "c4abcadd-ccb4-4060-ab68-bf81efcdcdba",
   "metadata": {},
   "outputs": [],
   "source": [
    "X_train_sm = X_train_sm.drop('ProcessStateReason', axis=1)"
   ]
  },
  {
   "cell_type": "code",
   "execution_count": 29,
   "id": "ff557b0f-7424-4dad-9e65-cc1c3a9f4e9b",
   "metadata": {},
   "outputs": [
    {
     "data": {
      "text/html": [
       "<table class=\"simpletable\">\n",
       "<caption>Generalized Linear Model Regression Results</caption>\n",
       "<tr>\n",
       "  <th>Dep. Variable:</th>     <td>ProcessState</td>   <th>  No. Observations:  </th>  <td>    80</td> \n",
       "</tr>\n",
       "<tr>\n",
       "  <th>Model:</th>                  <td>GLM</td>       <th>  Df Residuals:      </th>  <td>    75</td> \n",
       "</tr>\n",
       "<tr>\n",
       "  <th>Model Family:</th>        <td>Binomial</td>     <th>  Df Model:          </th>  <td>     4</td> \n",
       "</tr>\n",
       "<tr>\n",
       "  <th>Link Function:</th>         <td>Logit</td>      <th>  Scale:             </th> <td>  1.0000</td>\n",
       "</tr>\n",
       "<tr>\n",
       "  <th>Method:</th>                <td>IRLS</td>       <th>  Log-Likelihood:    </th> <td> -54.502</td>\n",
       "</tr>\n",
       "<tr>\n",
       "  <th>Date:</th>            <td>Wed, 26 Jun 2024</td> <th>  Deviance:          </th> <td>  109.00</td>\n",
       "</tr>\n",
       "<tr>\n",
       "  <th>Time:</th>                <td>10:22:24</td>     <th>  Pearson chi2:      </th>  <td>  79.9</td> \n",
       "</tr>\n",
       "<tr>\n",
       "  <th>No. Iterations:</th>          <td>4</td>        <th>  Pseudo R-squ. (CS):</th>  <td>0.01796</td>\n",
       "</tr>\n",
       "<tr>\n",
       "  <th>Covariance Type:</th>     <td>nonrobust</td>    <th>                     </th>     <td> </td>   \n",
       "</tr>\n",
       "</table>\n",
       "<table class=\"simpletable\">\n",
       "<tr>\n",
       "              <td></td>                <th>coef</th>     <th>std err</th>      <th>z</th>      <th>P>|z|</th>  <th>[0.025</th>    <th>0.975]</th>  \n",
       "</tr>\n",
       "<tr>\n",
       "  <th>const</th>                    <td>    0.0082</td> <td>    0.656</td> <td>    0.012</td> <td> 0.990</td> <td>   -1.277</td> <td>    1.293</td>\n",
       "</tr>\n",
       "<tr>\n",
       "  <th>PendingInvokesCount</th>      <td> 4.855e-16</td> <td> 5.31e-16</td> <td>    0.914</td> <td> 0.361</td> <td>-5.55e-16</td> <td> 1.53e-15</td>\n",
       "</tr>\n",
       "<tr>\n",
       "  <th>ModifiedCount</th>            <td>   -0.7442</td> <td>    0.753</td> <td>   -0.988</td> <td> 0.323</td> <td>   -2.220</td> <td>    0.732</td>\n",
       "</tr>\n",
       "<tr>\n",
       "  <th>NumberOfJumpSteps</th>        <td>   -0.0954</td> <td>    0.137</td> <td>   -0.696</td> <td> 0.486</td> <td>   -0.364</td> <td>    0.173</td>\n",
       "</tr>\n",
       "<tr>\n",
       "  <th>NumberOfServicesPresent</th>  <td>   -0.0060</td> <td>    0.191</td> <td>   -0.032</td> <td> 0.975</td> <td>   -0.380</td> <td>    0.368</td>\n",
       "</tr>\n",
       "<tr>\n",
       "  <th>ProceessType_ SubProcess</th> <td>    1.7241</td> <td>    1.834</td> <td>    0.940</td> <td> 0.347</td> <td>   -1.870</td> <td>    5.318</td>\n",
       "</tr>\n",
       "</table>"
      ],
      "text/latex": [
       "\\begin{center}\n",
       "\\begin{tabular}{lclc}\n",
       "\\toprule\n",
       "\\textbf{Dep. Variable:}            &   ProcessState   & \\textbf{  No. Observations:  } &       80    \\\\\n",
       "\\textbf{Model:}                    &       GLM        & \\textbf{  Df Residuals:      } &       75    \\\\\n",
       "\\textbf{Model Family:}             &     Binomial     & \\textbf{  Df Model:          } &        4    \\\\\n",
       "\\textbf{Link Function:}            &      Logit       & \\textbf{  Scale:             } &    1.0000   \\\\\n",
       "\\textbf{Method:}                   &       IRLS       & \\textbf{  Log-Likelihood:    } &   -54.502   \\\\\n",
       "\\textbf{Date:}                     & Wed, 26 Jun 2024 & \\textbf{  Deviance:          } &    109.00   \\\\\n",
       "\\textbf{Time:}                     &     10:22:24     & \\textbf{  Pearson chi2:      } &     79.9    \\\\\n",
       "\\textbf{No. Iterations:}           &        4         & \\textbf{  Pseudo R-squ. (CS):} &  0.01796    \\\\\n",
       "\\textbf{Covariance Type:}          &    nonrobust     & \\textbf{                     } &             \\\\\n",
       "\\bottomrule\n",
       "\\end{tabular}\n",
       "\\begin{tabular}{lcccccc}\n",
       "                                   & \\textbf{coef} & \\textbf{std err} & \\textbf{z} & \\textbf{P$> |$z$|$} & \\textbf{[0.025} & \\textbf{0.975]}  \\\\\n",
       "\\midrule\n",
       "\\textbf{const}                     &       0.0082  &        0.656     &     0.012  &         0.990        &       -1.277    &        1.293     \\\\\n",
       "\\textbf{PendingInvokesCount}       &    4.855e-16  &     5.31e-16     &     0.914  &         0.361        &    -5.55e-16    &     1.53e-15     \\\\\n",
       "\\textbf{ModifiedCount}             &      -0.7442  &        0.753     &    -0.988  &         0.323        &       -2.220    &        0.732     \\\\\n",
       "\\textbf{NumberOfJumpSteps}         &      -0.0954  &        0.137     &    -0.696  &         0.486        &       -0.364    &        0.173     \\\\\n",
       "\\textbf{NumberOfServicesPresent}   &      -0.0060  &        0.191     &    -0.032  &         0.975        &       -0.380    &        0.368     \\\\\n",
       "\\textbf{ProceessType\\_ SubProcess} &       1.7241  &        1.834     &     0.940  &         0.347        &       -1.870    &        5.318     \\\\\n",
       "\\bottomrule\n",
       "\\end{tabular}\n",
       "%\\caption{Generalized Linear Model Regression Results}\n",
       "\\end{center}"
      ],
      "text/plain": [
       "<class 'statsmodels.iolib.summary.Summary'>\n",
       "\"\"\"\n",
       "                 Generalized Linear Model Regression Results                  \n",
       "==============================================================================\n",
       "Dep. Variable:           ProcessState   No. Observations:                   80\n",
       "Model:                            GLM   Df Residuals:                       75\n",
       "Model Family:                Binomial   Df Model:                            4\n",
       "Link Function:                  Logit   Scale:                          1.0000\n",
       "Method:                          IRLS   Log-Likelihood:                -54.502\n",
       "Date:                Wed, 26 Jun 2024   Deviance:                       109.00\n",
       "Time:                        10:22:24   Pearson chi2:                     79.9\n",
       "No. Iterations:                     4   Pseudo R-squ. (CS):            0.01796\n",
       "Covariance Type:            nonrobust                                         \n",
       "============================================================================================\n",
       "                               coef    std err          z      P>|z|      [0.025      0.975]\n",
       "--------------------------------------------------------------------------------------------\n",
       "const                        0.0082      0.656      0.012      0.990      -1.277       1.293\n",
       "PendingInvokesCount       4.855e-16   5.31e-16      0.914      0.361   -5.55e-16    1.53e-15\n",
       "ModifiedCount               -0.7442      0.753     -0.988      0.323      -2.220       0.732\n",
       "NumberOfJumpSteps           -0.0954      0.137     -0.696      0.486      -0.364       0.173\n",
       "NumberOfServicesPresent     -0.0060      0.191     -0.032      0.975      -0.380       0.368\n",
       "ProceessType_ SubProcess     1.7241      1.834      0.940      0.347      -1.870       5.318\n",
       "============================================================================================\n",
       "\"\"\""
      ]
     },
     "execution_count": 29,
     "metadata": {},
     "output_type": "execute_result"
    }
   ],
   "source": [
    "# Logistic regression model\n",
    "logm1 = sm.GLM(y_train,X_train_sm, family = sm.families.Binomial())\n",
    "logm1.fit().summary()"
   ]
  },
  {
   "cell_type": "code",
   "execution_count": 30,
   "id": "c2c6a58f-7663-49d0-bcba-633f42554fc0",
   "metadata": {},
   "outputs": [
    {
     "data": {
      "text/html": [
       "<div>\n",
       "<style scoped>\n",
       "    .dataframe tbody tr th:only-of-type {\n",
       "        vertical-align: middle;\n",
       "    }\n",
       "\n",
       "    .dataframe tbody tr th {\n",
       "        vertical-align: top;\n",
       "    }\n",
       "\n",
       "    .dataframe thead th {\n",
       "        text-align: right;\n",
       "    }\n",
       "</style>\n",
       "<table border=\"1\" class=\"dataframe\">\n",
       "  <thead>\n",
       "    <tr style=\"text-align: right;\">\n",
       "      <th></th>\n",
       "      <th>Features</th>\n",
       "      <th>VIF</th>\n",
       "    </tr>\n",
       "  </thead>\n",
       "  <tbody>\n",
       "    <tr>\n",
       "      <th>5</th>\n",
       "      <td>ProceessType_ SubProcess</td>\n",
       "      <td>8.87</td>\n",
       "    </tr>\n",
       "    <tr>\n",
       "      <th>2</th>\n",
       "      <td>ModifiedCount</td>\n",
       "      <td>8.83</td>\n",
       "    </tr>\n",
       "    <tr>\n",
       "      <th>0</th>\n",
       "      <td>const</td>\n",
       "      <td>7.78</td>\n",
       "    </tr>\n",
       "    <tr>\n",
       "      <th>3</th>\n",
       "      <td>NumberOfJumpSteps</td>\n",
       "      <td>1.04</td>\n",
       "    </tr>\n",
       "    <tr>\n",
       "      <th>4</th>\n",
       "      <td>NumberOfServicesPresent</td>\n",
       "      <td>1.04</td>\n",
       "    </tr>\n",
       "    <tr>\n",
       "      <th>1</th>\n",
       "      <td>PendingInvokesCount</td>\n",
       "      <td>NaN</td>\n",
       "    </tr>\n",
       "  </tbody>\n",
       "</table>\n",
       "</div>"
      ],
      "text/plain": [
       "                   Features   VIF\n",
       "5  ProceessType_ SubProcess  8.87\n",
       "2             ModifiedCount  8.83\n",
       "0                     const  7.78\n",
       "3         NumberOfJumpSteps  1.04\n",
       "4   NumberOfServicesPresent  1.04\n",
       "1       PendingInvokesCount   NaN"
      ]
     },
     "execution_count": 30,
     "metadata": {},
     "output_type": "execute_result"
    }
   ],
   "source": [
    "# Calculate the VIFs for the new model\n",
    "from statsmodels.stats.outliers_influence import variance_inflation_factor\n",
    "\n",
    "vif = pd.DataFrame()\n",
    "X = X_train_sm\n",
    "vif['Features'] = X.columns\n",
    "vif['VIF'] = [variance_inflation_factor(X.values, i) for i in range(X.shape[1])]\n",
    "vif['VIF'] = round(vif['VIF'], 2)\n",
    "vif = vif.sort_values(by = \"VIF\", ascending = False)\n",
    "vif"
   ]
  },
  {
   "cell_type": "code",
   "execution_count": 31,
   "id": "19ff7765-e42c-4b1b-af9c-74395acb0dd6",
   "metadata": {},
   "outputs": [],
   "source": [
    "X_train_sm = X_train_sm.drop('PendingInvokesCount', axis=1)"
   ]
  },
  {
   "cell_type": "code",
   "execution_count": 36,
   "id": "569bf69f-b5ae-490c-8fa5-fff9db23a2d8",
   "metadata": {},
   "outputs": [
    {
     "data": {
      "text/html": [
       "<table class=\"simpletable\">\n",
       "<caption>Generalized Linear Model Regression Results</caption>\n",
       "<tr>\n",
       "  <th>Dep. Variable:</th>     <td>ProcessState</td>   <th>  No. Observations:  </th>  <td>    80</td> \n",
       "</tr>\n",
       "<tr>\n",
       "  <th>Model:</th>                  <td>GLM</td>       <th>  Df Residuals:      </th>  <td>    75</td> \n",
       "</tr>\n",
       "<tr>\n",
       "  <th>Model Family:</th>        <td>Binomial</td>     <th>  Df Model:          </th>  <td>     4</td> \n",
       "</tr>\n",
       "<tr>\n",
       "  <th>Link Function:</th>         <td>Logit</td>      <th>  Scale:             </th> <td>  1.0000</td>\n",
       "</tr>\n",
       "<tr>\n",
       "  <th>Method:</th>                <td>IRLS</td>       <th>  Log-Likelihood:    </th> <td> -54.502</td>\n",
       "</tr>\n",
       "<tr>\n",
       "  <th>Date:</th>            <td>Wed, 26 Jun 2024</td> <th>  Deviance:          </th> <td>  109.00</td>\n",
       "</tr>\n",
       "<tr>\n",
       "  <th>Time:</th>                <td>10:45:43</td>     <th>  Pearson chi2:      </th>  <td>  79.9</td> \n",
       "</tr>\n",
       "<tr>\n",
       "  <th>No. Iterations:</th>          <td>4</td>        <th>  Pseudo R-squ. (CS):</th>  <td>0.01796</td>\n",
       "</tr>\n",
       "<tr>\n",
       "  <th>Covariance Type:</th>     <td>nonrobust</td>    <th>                     </th>     <td> </td>   \n",
       "</tr>\n",
       "</table>\n",
       "<table class=\"simpletable\">\n",
       "<tr>\n",
       "              <td></td>                <th>coef</th>     <th>std err</th>      <th>z</th>      <th>P>|z|</th>  <th>[0.025</th>    <th>0.975]</th>  \n",
       "</tr>\n",
       "<tr>\n",
       "  <th>const</th>                    <td>    0.0082</td> <td>    0.656</td> <td>    0.012</td> <td> 0.990</td> <td>   -1.277</td> <td>    1.293</td>\n",
       "</tr>\n",
       "<tr>\n",
       "  <th>ModifiedCount</th>            <td>   -0.7442</td> <td>    0.753</td> <td>   -0.988</td> <td> 0.323</td> <td>   -2.220</td> <td>    0.732</td>\n",
       "</tr>\n",
       "<tr>\n",
       "  <th>NumberOfJumpSteps</th>        <td>   -0.0954</td> <td>    0.137</td> <td>   -0.696</td> <td> 0.486</td> <td>   -0.364</td> <td>    0.173</td>\n",
       "</tr>\n",
       "<tr>\n",
       "  <th>NumberOfServicesPresent</th>  <td>   -0.0060</td> <td>    0.191</td> <td>   -0.032</td> <td> 0.975</td> <td>   -0.380</td> <td>    0.368</td>\n",
       "</tr>\n",
       "<tr>\n",
       "  <th>ProceessType_ SubProcess</th> <td>    1.7241</td> <td>    1.834</td> <td>    0.940</td> <td> 0.347</td> <td>   -1.870</td> <td>    5.318</td>\n",
       "</tr>\n",
       "</table>"
      ],
      "text/latex": [
       "\\begin{center}\n",
       "\\begin{tabular}{lclc}\n",
       "\\toprule\n",
       "\\textbf{Dep. Variable:}            &   ProcessState   & \\textbf{  No. Observations:  } &       80    \\\\\n",
       "\\textbf{Model:}                    &       GLM        & \\textbf{  Df Residuals:      } &       75    \\\\\n",
       "\\textbf{Model Family:}             &     Binomial     & \\textbf{  Df Model:          } &        4    \\\\\n",
       "\\textbf{Link Function:}            &      Logit       & \\textbf{  Scale:             } &    1.0000   \\\\\n",
       "\\textbf{Method:}                   &       IRLS       & \\textbf{  Log-Likelihood:    } &   -54.502   \\\\\n",
       "\\textbf{Date:}                     & Wed, 26 Jun 2024 & \\textbf{  Deviance:          } &    109.00   \\\\\n",
       "\\textbf{Time:}                     &     10:45:43     & \\textbf{  Pearson chi2:      } &     79.9    \\\\\n",
       "\\textbf{No. Iterations:}           &        4         & \\textbf{  Pseudo R-squ. (CS):} &  0.01796    \\\\\n",
       "\\textbf{Covariance Type:}          &    nonrobust     & \\textbf{                     } &             \\\\\n",
       "\\bottomrule\n",
       "\\end{tabular}\n",
       "\\begin{tabular}{lcccccc}\n",
       "                                   & \\textbf{coef} & \\textbf{std err} & \\textbf{z} & \\textbf{P$> |$z$|$} & \\textbf{[0.025} & \\textbf{0.975]}  \\\\\n",
       "\\midrule\n",
       "\\textbf{const}                     &       0.0082  &        0.656     &     0.012  &         0.990        &       -1.277    &        1.293     \\\\\n",
       "\\textbf{ModifiedCount}             &      -0.7442  &        0.753     &    -0.988  &         0.323        &       -2.220    &        0.732     \\\\\n",
       "\\textbf{NumberOfJumpSteps}         &      -0.0954  &        0.137     &    -0.696  &         0.486        &       -0.364    &        0.173     \\\\\n",
       "\\textbf{NumberOfServicesPresent}   &      -0.0060  &        0.191     &    -0.032  &         0.975        &       -0.380    &        0.368     \\\\\n",
       "\\textbf{ProceessType\\_ SubProcess} &       1.7241  &        1.834     &     0.940  &         0.347        &       -1.870    &        5.318     \\\\\n",
       "\\bottomrule\n",
       "\\end{tabular}\n",
       "%\\caption{Generalized Linear Model Regression Results}\n",
       "\\end{center}"
      ],
      "text/plain": [
       "<class 'statsmodels.iolib.summary.Summary'>\n",
       "\"\"\"\n",
       "                 Generalized Linear Model Regression Results                  \n",
       "==============================================================================\n",
       "Dep. Variable:           ProcessState   No. Observations:                   80\n",
       "Model:                            GLM   Df Residuals:                       75\n",
       "Model Family:                Binomial   Df Model:                            4\n",
       "Link Function:                  Logit   Scale:                          1.0000\n",
       "Method:                          IRLS   Log-Likelihood:                -54.502\n",
       "Date:                Wed, 26 Jun 2024   Deviance:                       109.00\n",
       "Time:                        10:45:43   Pearson chi2:                     79.9\n",
       "No. Iterations:                     4   Pseudo R-squ. (CS):            0.01796\n",
       "Covariance Type:            nonrobust                                         \n",
       "============================================================================================\n",
       "                               coef    std err          z      P>|z|      [0.025      0.975]\n",
       "--------------------------------------------------------------------------------------------\n",
       "const                        0.0082      0.656      0.012      0.990      -1.277       1.293\n",
       "ModifiedCount               -0.7442      0.753     -0.988      0.323      -2.220       0.732\n",
       "NumberOfJumpSteps           -0.0954      0.137     -0.696      0.486      -0.364       0.173\n",
       "NumberOfServicesPresent     -0.0060      0.191     -0.032      0.975      -0.380       0.368\n",
       "ProceessType_ SubProcess     1.7241      1.834      0.940      0.347      -1.870       5.318\n",
       "============================================================================================\n",
       "\"\"\""
      ]
     },
     "execution_count": 36,
     "metadata": {},
     "output_type": "execute_result"
    }
   ],
   "source": [
    "# Logistic regression model\n",
    "logm1 = sm.GLM(y_train,X_train_sm, family = sm.families.Binomial())\n",
    "res = logm1.fit()\n",
    "res.summary()"
   ]
  },
  {
   "cell_type": "code",
   "execution_count": 37,
   "id": "b7846708-58ee-430a-b849-2bfc1c41efd2",
   "metadata": {},
   "outputs": [
    {
     "data": {
      "text/plain": [
       "29    0.558603\n",
       "83    0.609298\n",
       "82    0.545311\n",
       "43    0.488846\n",
       "28    0.514194\n",
       "22    0.581973\n",
       "23    0.514194\n",
       "90    0.607861\n",
       "86    0.514194\n",
       "20    0.448713\n",
       "dtype: float64"
      ]
     },
     "execution_count": 37,
     "metadata": {},
     "output_type": "execute_result"
    }
   ],
   "source": [
    "# Getting the predicted values on the train set\n",
    "y_train_pred = res.predict(X_train_sm)\n",
    "y_train_pred[:10]"
   ]
  },
  {
   "cell_type": "code",
   "execution_count": 38,
   "id": "4db44393-119c-4ec7-b761-687b65a5fcd9",
   "metadata": {},
   "outputs": [
    {
     "data": {
      "text/plain": [
       "array([0.5586027 , 0.60929791, 0.5453114 , 0.48884563, 0.51419437,\n",
       "       0.58197275, 0.51419437, 0.60786063, 0.51419437, 0.44871314])"
      ]
     },
     "execution_count": 38,
     "metadata": {},
     "output_type": "execute_result"
    }
   ],
   "source": [
    "y_train_pred = y_train_pred.values.reshape(-1)\n",
    "y_train_pred[:10]"
   ]
  },
  {
   "cell_type": "code",
   "execution_count": 39,
   "id": "3cde1368-9d3d-4278-9e63-7c5d6e3bd00f",
   "metadata": {},
   "outputs": [
    {
     "data": {
      "text/html": [
       "<div>\n",
       "<style scoped>\n",
       "    .dataframe tbody tr th:only-of-type {\n",
       "        vertical-align: middle;\n",
       "    }\n",
       "\n",
       "    .dataframe tbody tr th {\n",
       "        vertical-align: top;\n",
       "    }\n",
       "\n",
       "    .dataframe thead th {\n",
       "        text-align: right;\n",
       "    }\n",
       "</style>\n",
       "<table border=\"1\" class=\"dataframe\">\n",
       "  <thead>\n",
       "    <tr style=\"text-align: right;\">\n",
       "      <th></th>\n",
       "      <th>ProcessState</th>\n",
       "      <th>ProcessState_predicted</th>\n",
       "      <th>Id</th>\n",
       "    </tr>\n",
       "  </thead>\n",
       "  <tbody>\n",
       "    <tr>\n",
       "      <th>0</th>\n",
       "      <td>1</td>\n",
       "      <td>0.558603</td>\n",
       "      <td>29</td>\n",
       "    </tr>\n",
       "    <tr>\n",
       "      <th>1</th>\n",
       "      <td>1</td>\n",
       "      <td>0.609298</td>\n",
       "      <td>83</td>\n",
       "    </tr>\n",
       "    <tr>\n",
       "      <th>2</th>\n",
       "      <td>0</td>\n",
       "      <td>0.545311</td>\n",
       "      <td>82</td>\n",
       "    </tr>\n",
       "    <tr>\n",
       "      <th>3</th>\n",
       "      <td>1</td>\n",
       "      <td>0.488846</td>\n",
       "      <td>43</td>\n",
       "    </tr>\n",
       "    <tr>\n",
       "      <th>4</th>\n",
       "      <td>1</td>\n",
       "      <td>0.514194</td>\n",
       "      <td>28</td>\n",
       "    </tr>\n",
       "  </tbody>\n",
       "</table>\n",
       "</div>"
      ],
      "text/plain": [
       "   ProcessState  ProcessState_predicted  Id\n",
       "0             1                0.558603  29\n",
       "1             1                0.609298  83\n",
       "2             0                0.545311  82\n",
       "3             1                0.488846  43\n",
       "4             1                0.514194  28"
      ]
     },
     "execution_count": 39,
     "metadata": {},
     "output_type": "execute_result"
    }
   ],
   "source": [
    "y_train_pred_final = pd.DataFrame({'ProcessState':y_train.values, 'ProcessState_predicted':y_train_pred})\n",
    "y_train_pred_final['Id'] = y_train.index\n",
    "y_train_pred_final.head()"
   ]
  },
  {
   "cell_type": "code",
   "execution_count": 40,
   "id": "e815e9cd-7d9f-4a06-b682-cfc21c3d6f26",
   "metadata": {},
   "outputs": [
    {
     "data": {
      "text/html": [
       "<div>\n",
       "<style scoped>\n",
       "    .dataframe tbody tr th:only-of-type {\n",
       "        vertical-align: middle;\n",
       "    }\n",
       "\n",
       "    .dataframe tbody tr th {\n",
       "        vertical-align: top;\n",
       "    }\n",
       "\n",
       "    .dataframe thead th {\n",
       "        text-align: right;\n",
       "    }\n",
       "</style>\n",
       "<table border=\"1\" class=\"dataframe\">\n",
       "  <thead>\n",
       "    <tr style=\"text-align: right;\">\n",
       "      <th></th>\n",
       "      <th>ProcessState</th>\n",
       "      <th>ProcessState_predicted</th>\n",
       "      <th>Id</th>\n",
       "      <th>predicted</th>\n",
       "    </tr>\n",
       "  </thead>\n",
       "  <tbody>\n",
       "    <tr>\n",
       "      <th>0</th>\n",
       "      <td>1</td>\n",
       "      <td>0.558603</td>\n",
       "      <td>29</td>\n",
       "      <td>1</td>\n",
       "    </tr>\n",
       "    <tr>\n",
       "      <th>1</th>\n",
       "      <td>1</td>\n",
       "      <td>0.609298</td>\n",
       "      <td>83</td>\n",
       "      <td>1</td>\n",
       "    </tr>\n",
       "    <tr>\n",
       "      <th>2</th>\n",
       "      <td>0</td>\n",
       "      <td>0.545311</td>\n",
       "      <td>82</td>\n",
       "      <td>1</td>\n",
       "    </tr>\n",
       "    <tr>\n",
       "      <th>3</th>\n",
       "      <td>1</td>\n",
       "      <td>0.488846</td>\n",
       "      <td>43</td>\n",
       "      <td>0</td>\n",
       "    </tr>\n",
       "    <tr>\n",
       "      <th>4</th>\n",
       "      <td>1</td>\n",
       "      <td>0.514194</td>\n",
       "      <td>28</td>\n",
       "      <td>1</td>\n",
       "    </tr>\n",
       "  </tbody>\n",
       "</table>\n",
       "</div>"
      ],
      "text/plain": [
       "   ProcessState  ProcessState_predicted  Id  predicted\n",
       "0             1                0.558603  29          1\n",
       "1             1                0.609298  83          1\n",
       "2             0                0.545311  82          1\n",
       "3             1                0.488846  43          0\n",
       "4             1                0.514194  28          1"
      ]
     },
     "execution_count": 40,
     "metadata": {},
     "output_type": "execute_result"
    }
   ],
   "source": [
    "y_train_pred_final['predicted'] = y_train_pred_final.ProcessState_predicted.map(lambda x: 1 if x > 0.5 else 0)\n",
    "\n",
    "# Let's see the head\n",
    "y_train_pred_final.head()"
   ]
  },
  {
   "cell_type": "code",
   "execution_count": 41,
   "id": "51d1b3c4-9129-425c-8c43-39095feae69f",
   "metadata": {},
   "outputs": [],
   "source": [
    "from sklearn import metrics"
   ]
  },
  {
   "cell_type": "code",
   "execution_count": 42,
   "id": "2107c401-75a1-49d1-9069-cd2fa1a72b38",
   "metadata": {},
   "outputs": [
    {
     "name": "stdout",
     "output_type": "stream",
     "text": [
      "[[ 6 31]\n",
      " [ 8 35]]\n"
     ]
    }
   ],
   "source": [
    "# Confusion matrix \n",
    "confusion = metrics.confusion_matrix(y_train_pred_final.ProcessState, y_train_pred_final.predicted )\n",
    "print(confusion)"
   ]
  },
  {
   "cell_type": "code",
   "execution_count": 44,
   "id": "771151f4-b3f0-4eda-a9a8-86dfb9cd701f",
   "metadata": {},
   "outputs": [
    {
     "name": "stdout",
     "output_type": "stream",
     "text": [
      "0.5125\n"
     ]
    }
   ],
   "source": [
    "print(metrics.accuracy_score(y_train_pred_final.ProcessState, y_train_pred_final.predicted))"
   ]
  },
  {
   "cell_type": "code",
   "execution_count": 45,
   "id": "489c7903-9cce-4638-9c3f-093b15ea9852",
   "metadata": {},
   "outputs": [],
   "source": [
    "TP = confusion[1,1] # true positive \n",
    "TN = confusion[0,0] # true negatives\n",
    "FP = confusion[0,1] # false positives\n",
    "FN = confusion[1,0] # false negatives"
   ]
  },
  {
   "cell_type": "code",
   "execution_count": 46,
   "id": "b1f0ceec-2f76-4da6-b022-f254b6812878",
   "metadata": {},
   "outputs": [
    {
     "data": {
      "text/plain": [
       "0.813953488372093"
      ]
     },
     "execution_count": 46,
     "metadata": {},
     "output_type": "execute_result"
    }
   ],
   "source": [
    "# Let's see the sensitivity of our logistic regression model\n",
    "TP / float(TP+FN)"
   ]
  },
  {
   "cell_type": "code",
   "execution_count": 47,
   "id": "6407e96e-9e4d-447d-8913-0d714a63e212",
   "metadata": {},
   "outputs": [
    {
     "data": {
      "text/plain": [
       "0.16216216216216217"
      ]
     },
     "execution_count": 47,
     "metadata": {},
     "output_type": "execute_result"
    }
   ],
   "source": [
    "# Let us calculate specificity\n",
    "TN / float(TN+FP)"
   ]
  },
  {
   "cell_type": "code",
   "execution_count": 48,
   "id": "4f25f75d-1770-4b18-86b4-fd52fc4cc01f",
   "metadata": {},
   "outputs": [
    {
     "name": "stdout",
     "output_type": "stream",
     "text": [
      "0.8378378378378378\n"
     ]
    }
   ],
   "source": [
    "# Calculate false postive rate - predicting churn when customer does not have churned\n",
    "print(FP/ float(TN+FP))"
   ]
  },
  {
   "cell_type": "code",
   "execution_count": 49,
   "id": "398687ec-b85b-47ec-ac55-f317d0328abc",
   "metadata": {},
   "outputs": [
    {
     "name": "stdout",
     "output_type": "stream",
     "text": [
      "0.5303030303030303\n"
     ]
    }
   ],
   "source": [
    "# positive predictive value \n",
    "print (TP / float(TP+FP))"
   ]
  },
  {
   "cell_type": "code",
   "execution_count": 50,
   "id": "3f03f711-5f7d-4f9b-9cb2-464255c3f391",
   "metadata": {},
   "outputs": [
    {
     "name": "stdout",
     "output_type": "stream",
     "text": [
      "0.42857142857142855\n"
     ]
    }
   ],
   "source": [
    "# Negative predictive value\n",
    "print (TN / float(TN+ FN))"
   ]
  },
  {
   "cell_type": "code",
   "execution_count": 54,
   "id": "576bc31f-e714-4b8a-9192-a608e98175d9",
   "metadata": {},
   "outputs": [],
   "source": [
    "import matplotlib.pyplot as plt\n",
    "import seaborn as sns"
   ]
  },
  {
   "cell_type": "code",
   "execution_count": 55,
   "id": "7ed5cd12-0cdc-4ab1-a4ec-641599eeae5b",
   "metadata": {},
   "outputs": [],
   "source": [
    "def draw_roc( actual, probs ):\n",
    "    fpr, tpr, thresholds = metrics.roc_curve( actual, probs,\n",
    "                                              drop_intermediate = False )\n",
    "    auc_score = metrics.roc_auc_score( actual, probs )\n",
    "    plt.figure(figsize=(5, 5))\n",
    "    plt.plot( fpr, tpr, label='ROC curve (area = %0.2f)' % auc_score )\n",
    "    plt.plot([0, 1], [0, 1], 'k--')\n",
    "    plt.xlim([0.0, 1.0])\n",
    "    plt.ylim([0.0, 1.05])\n",
    "    plt.xlabel('False Positive Rate or [1 - True Negative Rate]')\n",
    "    plt.ylabel('True Positive Rate')\n",
    "    plt.title('Receiver operating characteristic example')\n",
    "    plt.legend(loc=\"lower right\")\n",
    "    plt.show()\n",
    "\n",
    "    return None"
   ]
  },
  {
   "cell_type": "code",
   "execution_count": 56,
   "id": "1b6c9df6-ae7a-4530-8dc9-97e501efc3f0",
   "metadata": {},
   "outputs": [],
   "source": [
    "fpr, tpr, thresholds = metrics.roc_curve( y_train_pred_final.ProcessState, y_train_pred_final.ProcessState_predicted, drop_intermediate = False )"
   ]
  },
  {
   "cell_type": "code",
   "execution_count": 57,
   "id": "da767c18-d660-415d-bd58-d97ce33c9e40",
   "metadata": {},
   "outputs": [
    {
     "data": {
      "image/png": "[encoded data removed]",
      "text/plain": [
       "<Figure size 500x500 with 1 Axes>"
      ]
     },
     "metadata": {},
     "output_type": "display_data"
    }
   ],
   "source": [
    "draw_roc(y_train_pred_final.ProcessState, y_train_pred_final.ProcessState_predicted)"
   ]
  },
  {
   "cell_type": "code",
   "execution_count": 58,
   "id": "d4639419-af5a-423c-9f0a-8773e3e5b229",
   "metadata": {},
   "outputs": [
    {
     "data": {
      "text/html": [
       "<div>\n",
       "<style scoped>\n",
       "    .dataframe tbody tr th:only-of-type {\n",
       "        vertical-align: middle;\n",
       "    }\n",
       "\n",
       "    .dataframe tbody tr th {\n",
       "        vertical-align: top;\n",
       "    }\n",
       "\n",
       "    .dataframe thead th {\n",
       "        text-align: right;\n",
       "    }\n",
       "</style>\n",
       "<table border=\"1\" class=\"dataframe\">\n",
       "  <thead>\n",
       "    <tr style=\"text-align: right;\">\n",
       "      <th></th>\n",
       "      <th>ProcessState</th>\n",
       "      <th>ProcessState_predicted</th>\n",
       "      <th>Id</th>\n",
       "      <th>predicted</th>\n",
       "      <th>0.0</th>\n",
       "      <th>0.1</th>\n",
       "      <th>0.2</th>\n",
       "      <th>0.3</th>\n",
       "      <th>0.4</th>\n",
       "      <th>0.5</th>\n",
       "      <th>0.6</th>\n",
       "      <th>0.7</th>\n",
       "      <th>0.8</th>\n",
       "      <th>0.9</th>\n",
       "    </tr>\n",
       "  </thead>\n",
       "  <tbody>\n",
       "    <tr>\n",
       "      <th>0</th>\n",
       "      <td>1</td>\n",
       "      <td>0.558603</td>\n",
       "      <td>29</td>\n",
       "      <td>1</td>\n",
       "      <td>1</td>\n",
       "      <td>1</td>\n",
       "      <td>1</td>\n",
       "      <td>1</td>\n",
       "      <td>1</td>\n",
       "      <td>1</td>\n",
       "      <td>0</td>\n",
       "      <td>0</td>\n",
       "      <td>0</td>\n",
       "      <td>0</td>\n",
       "    </tr>\n",
       "    <tr>\n",
       "      <th>1</th>\n",
       "      <td>1</td>\n",
       "      <td>0.609298</td>\n",
       "      <td>83</td>\n",
       "      <td>1</td>\n",
       "      <td>1</td>\n",
       "      <td>1</td>\n",
       "      <td>1</td>\n",
       "      <td>1</td>\n",
       "      <td>1</td>\n",
       "      <td>1</td>\n",
       "      <td>1</td>\n",
       "      <td>0</td>\n",
       "      <td>0</td>\n",
       "      <td>0</td>\n",
       "    </tr>\n",
       "    <tr>\n",
       "      <th>2</th>\n",
       "      <td>0</td>\n",
       "      <td>0.545311</td>\n",
       "      <td>82</td>\n",
       "      <td>1</td>\n",
       "      <td>1</td>\n",
       "      <td>1</td>\n",
       "      <td>1</td>\n",
       "      <td>1</td>\n",
       "      <td>1</td>\n",
       "      <td>1</td>\n",
       "      <td>0</td>\n",
       "      <td>0</td>\n",
       "      <td>0</td>\n",
       "      <td>0</td>\n",
       "    </tr>\n",
       "    <tr>\n",
       "      <th>3</th>\n",
       "      <td>1</td>\n",
       "      <td>0.488846</td>\n",
       "      <td>43</td>\n",
       "      <td>0</td>\n",
       "      <td>1</td>\n",
       "      <td>1</td>\n",
       "      <td>1</td>\n",
       "      <td>1</td>\n",
       "      <td>1</td>\n",
       "      <td>0</td>\n",
       "      <td>0</td>\n",
       "      <td>0</td>\n",
       "      <td>0</td>\n",
       "      <td>0</td>\n",
       "    </tr>\n",
       "    <tr>\n",
       "      <th>4</th>\n",
       "      <td>1</td>\n",
       "      <td>0.514194</td>\n",
       "      <td>28</td>\n",
       "      <td>1</td>\n",
       "      <td>1</td>\n",
       "      <td>1</td>\n",
       "      <td>1</td>\n",
       "      <td>1</td>\n",
       "      <td>1</td>\n",
       "      <td>1</td>\n",
       "      <td>0</td>\n",
       "      <td>0</td>\n",
       "      <td>0</td>\n",
       "      <td>0</td>\n",
       "    </tr>\n",
       "  </tbody>\n",
       "</table>\n",
       "</div>"
      ],
      "text/plain": [
       "   ProcessState  ProcessState_predicted  Id  predicted  0.0  0.1  0.2  0.3  \\\n",
       "0             1                0.558603  29          1    1    1    1    1   \n",
       "1             1                0.609298  83          1    1    1    1    1   \n",
       "2             0                0.545311  82          1    1    1    1    1   \n",
       "3             1                0.488846  43          0    1    1    1    1   \n",
       "4             1                0.514194  28          1    1    1    1    1   \n",
       "\n",
       "   0.4  0.5  0.6  0.7  0.8  0.9  \n",
       "0    1    1    0    0    0    0  \n",
       "1    1    1    1    0    0    0  \n",
       "2    1    1    0    0    0    0  \n",
       "3    1    0    0    0    0    0  \n",
       "4    1    1    0    0    0    0  "
      ]
     },
     "execution_count": 58,
     "metadata": {},
     "output_type": "execute_result"
    }
   ],
   "source": [
    "# Let's create columns with different probability cutoffs \n",
    "numbers = [float(x)/10 for x in range(10)]\n",
    "for i in numbers:\n",
    "    y_train_pred_final[i]= y_train_pred_final.ProcessState_predicted.map(lambda x: 1 if x > i else 0)\n",
    "y_train_pred_final.head()"
   ]
  },
  {
   "cell_type": "code",
   "execution_count": 59,
   "id": "924bed5e-81ab-47ef-af74-63966c5096c1",
   "metadata": {},
   "outputs": [
    {
     "name": "stdout",
     "output_type": "stream",
     "text": [
      "     prob  accuracy     sensi     speci\n",
      "0.0   0.0    0.5375  1.000000  0.000000\n",
      "0.1   0.1    0.5375  1.000000  0.000000\n",
      "0.2   0.2    0.5375  1.000000  0.000000\n",
      "0.3   0.3    0.5500  1.000000  0.027027\n",
      "0.4   0.4    0.5375  0.976744  0.027027\n",
      "0.5   0.5    0.5125  0.813953  0.162162\n",
      "0.6   0.6    0.5000  0.186047  0.864865\n",
      "0.7   0.7    0.4625  0.000000  1.000000\n",
      "0.8   0.8    0.4625  0.000000  1.000000\n",
      "0.9   0.9    0.4625  0.000000  1.000000\n"
     ]
    }
   ],
   "source": [
    "# Now let's calculate accuracy sensitivity and specificity for various probability cutoffs.\n",
    "cutoff_df = pd.DataFrame( columns = ['prob','accuracy','sensi','speci'])\n",
    "from sklearn.metrics import confusion_matrix\n",
    "\n",
    "# TP = confusion[1,1] # true positive \n",
    "# TN = confusion[0,0] # true negatives\n",
    "# FP = confusion[0,1] # false positives\n",
    "# FN = confusion[1,0] # false negatives\n",
    "\n",
    "num = [0.0,0.1,0.2,0.3,0.4,0.5,0.6,0.7,0.8,0.9]\n",
    "for i in num:\n",
    "    cm1 = metrics.confusion_matrix(y_train_pred_final.ProcessState, y_train_pred_final[i] )\n",
    "    total1=sum(sum(cm1))\n",
    "    accuracy = (cm1[0,0]+cm1[1,1])/total1\n",
    "    \n",
    "    speci = cm1[0,0]/(cm1[0,0]+cm1[0,1])\n",
    "    sensi = cm1[1,1]/(cm1[1,0]+cm1[1,1])\n",
    "    cutoff_df.loc[i] =[ i ,accuracy,sensi,speci]\n",
    "print(cutoff_df)"
   ]
  },
  {
   "cell_type": "code",
   "execution_count": 60,
   "id": "6ea9198a-71cf-4e89-9fbb-b01800dc42d8",
   "metadata": {},
   "outputs": [
    {
     "data": {
      "image/png": "[encoded data removed]",
      "text/plain": [
       "<Figure size 640x480 with 1 Axes>"
      ]
     },
     "metadata": {},
     "output_type": "display_data"
    }
   ],
   "source": [
    "# Let's plot accuracy sensitivity and specificity for various probabilities.\n",
    "cutoff_df.plot.line(x='prob', y=['accuracy','sensi','speci'])\n",
    "plt.show()"
   ]
  },
  {
   "cell_type": "markdown",
   "id": "e5abeb39-93de-4ea1-9fe3-29a7e1e4a839",
   "metadata": {},
   "source": [
    "Cutoff is around 0.55 which is same as we have taken earlier"
   ]
  },
  {
   "cell_type": "markdown",
   "id": "9ad14af3-6cf1-4e55-b8d3-7d03e524aabe",
   "metadata": {},
   "source": [
    "Making predictions on test set"
   ]
  },
  {
   "cell_type": "code",
   "execution_count": 61,
   "id": "70c63508-4077-4a78-a64f-8666e2b7c6c0",
   "metadata": {},
   "outputs": [],
   "source": [
    "X_test[['ProcessStateReason','ModifiedCount']] = scaler.fit_transform(X_test[['ProcessStateReason','ModifiedCount']])"
   ]
  },
  {
   "cell_type": "code",
   "execution_count": 62,
   "id": "6f1c7d17-8ce6-425f-bcdf-ac45c1c32a05",
   "metadata": {},
   "outputs": [],
   "source": [
    "X_test_sm = sm.add_constant(X_test)"
   ]
  },
  {
   "cell_type": "code",
   "execution_count": 63,
   "id": "e8991d3a-3bbf-44f2-9b6a-7e39972b7eee",
   "metadata": {},
   "outputs": [
    {
     "data": {
      "text/plain": [
       "(20, 7)"
      ]
     },
     "execution_count": 63,
     "metadata": {},
     "output_type": "execute_result"
    }
   ],
   "source": [
    "X_test_sm.shape"
   ]
  },
  {
   "cell_type": "code",
   "execution_count": 64,
   "id": "beddf8d1-a347-4663-84d9-b91b056245cb",
   "metadata": {},
   "outputs": [
    {
     "data": {
      "text/plain": [
       "(80, 5)"
      ]
     },
     "execution_count": 64,
     "metadata": {},
     "output_type": "execute_result"
    }
   ],
   "source": [
    "X_train_sm.shape"
   ]
  },
  {
   "cell_type": "code",
   "execution_count": 65,
   "id": "79530f9e-e6e4-4a2b-bb02-bd0530e281b3",
   "metadata": {},
   "outputs": [],
   "source": [
    "X_test_sm = X_test_sm.drop('ProcessStateReason', axis=1)"
   ]
  },
  {
   "cell_type": "code",
   "execution_count": 66,
   "id": "3a786ae6-b425-4636-85c1-a4ad59e62582",
   "metadata": {},
   "outputs": [],
   "source": [
    "X_test_sm = X_test_sm.drop('PendingInvokesCount', axis=1)"
   ]
  },
  {
   "cell_type": "code",
   "execution_count": 67,
   "id": "dab5e0ef-363c-405d-abb1-717405cebe88",
   "metadata": {},
   "outputs": [
    {
     "data": {
      "text/plain": [
       "(20, 5)"
      ]
     },
     "execution_count": 67,
     "metadata": {},
     "output_type": "execute_result"
    }
   ],
   "source": [
    "X_test_sm.shape"
   ]
  },
  {
   "cell_type": "code",
   "execution_count": 68,
   "id": "eedfb7aa-0cfb-4863-8cf6-3e44115e2652",
   "metadata": {},
   "outputs": [],
   "source": [
    "y_test_pred = res.predict(X_test_sm)"
   ]
  },
  {
   "cell_type": "code",
   "execution_count": 69,
   "id": "5134c302-30d0-4295-9e6a-3024404afa3b",
   "metadata": {},
   "outputs": [],
   "source": [
    "# Converting y_pred to a dataframe which is an array\n",
    "y_pred_1 = pd.DataFrame(y_test_pred)"
   ]
  },
  {
   "cell_type": "code",
   "execution_count": 70,
   "id": "8f17f6d2-6e9b-4ba9-bf4d-0cee54006d03",
   "metadata": {},
   "outputs": [],
   "source": [
    "# Converting y_test to dataframe\n",
    "y_test_df = pd.DataFrame(y_test)"
   ]
  },
  {
   "cell_type": "code",
   "execution_count": 71,
   "id": "0a878caa-6ffa-4ab6-8277-06a65622947f",
   "metadata": {},
   "outputs": [],
   "source": [
    "# Putting CustID to index\n",
    "y_test_df['Id'] = y_test_df.index"
   ]
  },
  {
   "cell_type": "code",
   "execution_count": 72,
   "id": "92188278-91ae-4b2e-a12f-f378811454d8",
   "metadata": {},
   "outputs": [],
   "source": [
    "# Removing index for both dataframes to append them side by side \n",
    "y_pred_1.reset_index(drop=True, inplace=True)\n",
    "y_test_df.reset_index(drop=True, inplace=True)"
   ]
  },
  {
   "cell_type": "code",
   "execution_count": 73,
   "id": "31e8d2fd-3188-48e6-828d-375f0f686a5a",
   "metadata": {},
   "outputs": [],
   "source": [
    "# Appending y_test_df and y_pred_1\n",
    "y_pred_final = pd.concat([y_test_df, y_pred_1],axis=1)"
   ]
  },
  {
   "cell_type": "code",
   "execution_count": 74,
   "id": "e41ad508-9159-4ccd-b0b7-5db83ecab4b9",
   "metadata": {},
   "outputs": [],
   "source": [
    "y_pred_final= y_pred_final.rename(columns={ 0 : 'ProcessState_Prob'})"
   ]
  },
  {
   "cell_type": "code",
   "execution_count": 75,
   "id": "b83a4381-b82e-47f2-a093-a31230d72853",
   "metadata": {},
   "outputs": [],
   "source": [
    "# Rearranging the columns\n",
    "y_pred_final = y_pred_final.reindex(['Id','ProcessState','ProcessState_Prob'], axis=1)"
   ]
  },
  {
   "cell_type": "code",
   "execution_count": 76,
   "id": "e90487aa-31f8-4d28-bcfb-3a33517f2245",
   "metadata": {},
   "outputs": [
    {
     "data": {
      "text/html": [
       "<div>\n",
       "<style scoped>\n",
       "    .dataframe tbody tr th:only-of-type {\n",
       "        vertical-align: middle;\n",
       "    }\n",
       "\n",
       "    .dataframe tbody tr th {\n",
       "        vertical-align: top;\n",
       "    }\n",
       "\n",
       "    .dataframe thead th {\n",
       "        text-align: right;\n",
       "    }\n",
       "</style>\n",
       "<table border=\"1\" class=\"dataframe\">\n",
       "  <thead>\n",
       "    <tr style=\"text-align: right;\">\n",
       "      <th></th>\n",
       "      <th>Id</th>\n",
       "      <th>ProcessState</th>\n",
       "      <th>ProcessState_Prob</th>\n",
       "    </tr>\n",
       "  </thead>\n",
       "  <tbody>\n",
       "    <tr>\n",
       "      <th>0</th>\n",
       "      <td>37</td>\n",
       "      <td>0</td>\n",
       "      <td>0.541972</td>\n",
       "    </tr>\n",
       "    <tr>\n",
       "      <th>1</th>\n",
       "      <td>62</td>\n",
       "      <td>1</td>\n",
       "      <td>0.495887</td>\n",
       "    </tr>\n",
       "    <tr>\n",
       "      <th>2</th>\n",
       "      <td>26</td>\n",
       "      <td>1</td>\n",
       "      <td>0.565538</td>\n",
       "    </tr>\n",
       "    <tr>\n",
       "      <th>3</th>\n",
       "      <td>41</td>\n",
       "      <td>1</td>\n",
       "      <td>0.469064</td>\n",
       "    </tr>\n",
       "    <tr>\n",
       "      <th>4</th>\n",
       "      <td>35</td>\n",
       "      <td>1</td>\n",
       "      <td>0.538975</td>\n",
       "    </tr>\n",
       "  </tbody>\n",
       "</table>\n",
       "</div>"
      ],
      "text/plain": [
       "   Id  ProcessState  ProcessState_Prob\n",
       "0  37             0           0.541972\n",
       "1  62             1           0.495887\n",
       "2  26             1           0.565538\n",
       "3  41             1           0.469064\n",
       "4  35             1           0.538975"
      ]
     },
     "execution_count": 76,
     "metadata": {},
     "output_type": "execute_result"
    }
   ],
   "source": [
    "# Let's see the head of y_pred_final\n",
    "y_pred_final.head()"
   ]
  },
  {
   "cell_type": "code",
   "execution_count": 78,
   "id": "ffdd6737-3f06-4148-904e-15b0defe026d",
   "metadata": {},
   "outputs": [],
   "source": [
    "y_pred_final['final_predicted'] = y_pred_final.ProcessState_Prob.map(lambda x: 1 if x > 0.55 else 0)"
   ]
  },
  {
   "cell_type": "code",
   "execution_count": 79,
   "id": "c5682d0c-e224-44e2-a61e-0f87c3939ba0",
   "metadata": {},
   "outputs": [
    {
     "data": {
      "text/html": [
       "<div>\n",
       "<style scoped>\n",
       "    .dataframe tbody tr th:only-of-type {\n",
       "        vertical-align: middle;\n",
       "    }\n",
       "\n",
       "    .dataframe tbody tr th {\n",
       "        vertical-align: top;\n",
       "    }\n",
       "\n",
       "    .dataframe thead th {\n",
       "        text-align: right;\n",
       "    }\n",
       "</style>\n",
       "<table border=\"1\" class=\"dataframe\">\n",
       "  <thead>\n",
       "    <tr style=\"text-align: right;\">\n",
       "      <th></th>\n",
       "      <th>Id</th>\n",
       "      <th>ProcessState</th>\n",
       "      <th>ProcessState_Prob</th>\n",
       "      <th>final_predicted</th>\n",
       "    </tr>\n",
       "  </thead>\n",
       "  <tbody>\n",
       "    <tr>\n",
       "      <th>0</th>\n",
       "      <td>37</td>\n",
       "      <td>0</td>\n",
       "      <td>0.541972</td>\n",
       "      <td>0</td>\n",
       "    </tr>\n",
       "    <tr>\n",
       "      <th>1</th>\n",
       "      <td>62</td>\n",
       "      <td>1</td>\n",
       "      <td>0.495887</td>\n",
       "      <td>0</td>\n",
       "    </tr>\n",
       "    <tr>\n",
       "      <th>2</th>\n",
       "      <td>26</td>\n",
       "      <td>1</td>\n",
       "      <td>0.565538</td>\n",
       "      <td>1</td>\n",
       "    </tr>\n",
       "    <tr>\n",
       "      <th>3</th>\n",
       "      <td>41</td>\n",
       "      <td>1</td>\n",
       "      <td>0.469064</td>\n",
       "      <td>0</td>\n",
       "    </tr>\n",
       "    <tr>\n",
       "      <th>4</th>\n",
       "      <td>35</td>\n",
       "      <td>1</td>\n",
       "      <td>0.538975</td>\n",
       "      <td>0</td>\n",
       "    </tr>\n",
       "  </tbody>\n",
       "</table>\n",
       "</div>"
      ],
      "text/plain": [
       "   Id  ProcessState  ProcessState_Prob  final_predicted\n",
       "0  37             0           0.541972                0\n",
       "1  62             1           0.495887                0\n",
       "2  26             1           0.565538                1\n",
       "3  41             1           0.469064                0\n",
       "4  35             1           0.538975                0"
      ]
     },
     "execution_count": 79,
     "metadata": {},
     "output_type": "execute_result"
    }
   ],
   "source": [
    "y_pred_final.head()"
   ]
  },
  {
   "cell_type": "code",
   "execution_count": 81,
   "id": "a0d7db5f-a083-40c1-b4a3-0eff14d2cc9d",
   "metadata": {},
   "outputs": [
    {
     "data": {
      "text/plain": [
       "0.45"
      ]
     },
     "execution_count": 81,
     "metadata": {},
     "output_type": "execute_result"
    }
   ],
   "source": [
    "metrics.accuracy_score(y_pred_final.ProcessState, y_pred_final.final_predicted)"
   ]
  },
  {
   "cell_type": "code",
   "execution_count": 82,
   "id": "b54b48c2-47f3-496d-9fc0-263dec91cd8c",
   "metadata": {},
   "outputs": [
    {
     "data": {
      "text/plain": [
       "array([[ 7,  1],\n",
       "       [10,  2]], dtype=int64)"
      ]
     },
     "execution_count": 82,
     "metadata": {},
     "output_type": "execute_result"
    }
   ],
   "source": [
    "confusion2 = metrics.confusion_matrix(y_pred_final.ProcessState, y_pred_final.final_predicted )\n",
    "confusion2"
   ]
  },
  {
   "cell_type": "code",
   "execution_count": 83,
   "id": "497395eb-f2ec-4dcf-9ea7-b9cd8beaa0a4",
   "metadata": {},
   "outputs": [],
   "source": [
    "TP = confusion2[1,1] # true positive \n",
    "TN = confusion2[0,0] # true negatives\n",
    "FP = confusion2[0,1] # false positives\n",
    "FN = confusion2[1,0] # false negatives"
   ]
  },
  {
   "cell_type": "code",
   "execution_count": 84,
   "id": "08af6cb0-11b5-4068-8e2f-b59a94f22400",
   "metadata": {},
   "outputs": [
    {
     "data": {
      "text/plain": [
       "0.16666666666666666"
      ]
     },
     "execution_count": 84,
     "metadata": {},
     "output_type": "execute_result"
    }
   ],
   "source": [
    "# Let's see the sensitivity of our logistic regression model\n",
    "TP / float(TP+FN)"
   ]
  },
  {
   "cell_type": "code",
   "execution_count": 85,
   "id": "517e9047-b3a9-4f02-91f7-467803e15932",
   "metadata": {},
   "outputs": [
    {
     "data": {
      "text/plain": [
       "0.875"
      ]
     },
     "execution_count": 85,
     "metadata": {},
     "output_type": "execute_result"
    }
   ],
   "source": [
    "# Let us calculate specificity\n",
    "TN / float(TN+FP)"
   ]
  },
  {
   "cell_type": "markdown",
   "id": "be99b9ff-3269-4d25-bedc-e32dfc8ec160",
   "metadata": {},
   "source": [
    "Sensitivity is very low on the test set but can be improved with more training data on the model"
   ]
  },
  {
   "cell_type": "code",
   "execution_count": null,
   "id": "bcb6a9d5-e8a0-452c-8638-2417968a31a9",
   "metadata": {},
   "outputs": [],
   "source": []
  }
 ],
 "metadata": {
  "kernelspec": {
   "display_name": "Python 3 (ipykernel)",
   "language": "python",
   "name": "python3"
  },
  "language_info": {
   "codemirror_mode": {
    "name": "ipython",
    "version": 3
   },
   "file_extension": ".py",
   "mimetype": "text/x-python",
   "name": "python",
   "nbconvert_exporter": "python",
   "pygments_lexer": "ipython3",
   "version": "3.11.7"
  }
 },
 "nbformat": 4,
 "nbformat_minor": 5
}
